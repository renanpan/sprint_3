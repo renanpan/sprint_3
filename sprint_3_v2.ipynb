{
 "cells": [
  {
   "cell_type": "markdown",
   "metadata": {
    "id": "eAkbw7Ueuj8X"
   },
   "source": [
    "# Qual é o melhor plano?\n",
    "\n",
    "Você trabalha como analista para a empresa de telecomunicações Megaline. A empresa oferece aos clientes dois planos pré-pagos: Surf e Ultimate. O departamento comercial quer saber qual dos planos gera mais receita para ajustar o orçamento de publicidade.\n",
    "\n",
    "Você vai realizar uma análise preliminar dos planos com base em uma pequena seleção de clientes. Você terá dados de 500 clientes da Megaline: que clientes são, de onde eles são, qual plano usam e o número de chamadas e mensagens realizadas em 2018. Seu trabalho é analisar o comportamento dos clientes e determinar qual plano pré-pago gera mais receita."
   ]
  },
  {
   "cell_type": "markdown",
   "metadata": {
    "id": "lnomf-3Xuj8b"
   },
   "source": [
    "## Inicialização"
   ]
  },
  {
   "cell_type": "code",
   "execution_count": 2,
   "metadata": {
    "id": "JdJusn5ouj8c"
   },
   "outputs": [],
   "source": [
    "# Carregando todas as bibliotecas\n",
    "import pandas as pd\n",
    "import numpy as np\n",
    "from scipy import stats as st\n",
    "from matplotlib import pyplot as plt\n",
    "import math"
   ]
  },
  {
   "cell_type": "markdown",
   "metadata": {
    "id": "rzqsCrgquj8d"
   },
   "source": [
    "## Carregue os dados"
   ]
  },
  {
   "cell_type": "code",
   "execution_count": 3,
   "metadata": {
    "id": "HmzmQRXIuj8e"
   },
   "outputs": [],
   "source": [
    "# Carregue os arquivos de dados em diferentes DataFrames\n",
    "\n",
    "calls = pd.read_csv('megaline_calls.csv')\n",
    "internet = pd.read_csv('megaline_internet.csv')\n",
    "messages = pd.read_csv('megaline_messages.csv')\n",
    "plans = pd.read_csv('megaline_plans.csv')\n",
    "users = pd.read_csv('megaline_users.csv')"
   ]
  },
  {
   "cell_type": "markdown",
   "metadata": {
    "id": "XQh-EeiIuj8e"
   },
   "source": [
    "## Prepare os dados"
   ]
  },
  {
   "cell_type": "markdown",
   "metadata": {
    "id": "RmibJmmzuj8e"
   },
   "source": [
    "- Com base nas informações obtidas na sequencia do código, consegui observar que há casos de dados faltantes e também casos em que será necessário alterar o tipo de dados."
   ]
  },
  {
   "cell_type": "markdown",
   "metadata": {
    "id": "TlZUw_Cyuj8f"
   },
   "source": [
    "## Planos"
   ]
  },
  {
   "cell_type": "code",
   "execution_count": 4,
   "metadata": {
    "id": "x9qB5mAOuj8f"
   },
   "outputs": [
    {
     "name": "stdout",
     "output_type": "stream",
     "text": [
      "<class 'pandas.core.frame.DataFrame'>\n",
      "RangeIndex: 2 entries, 0 to 1\n",
      "Data columns (total 8 columns):\n",
      " #   Column                 Non-Null Count  Dtype  \n",
      "---  ------                 --------------  -----  \n",
      " 0   messages_included      2 non-null      int64  \n",
      " 1   mb_per_month_included  2 non-null      int64  \n",
      " 2   minutes_included       2 non-null      int64  \n",
      " 3   usd_monthly_pay        2 non-null      int64  \n",
      " 4   usd_per_gb             2 non-null      int64  \n",
      " 5   usd_per_message        2 non-null      float64\n",
      " 6   usd_per_minute         2 non-null      float64\n",
      " 7   plan_name              2 non-null      object \n",
      "dtypes: float64(2), int64(5), object(1)\n",
      "memory usage: 260.0+ bytes\n"
     ]
    }
   ],
   "source": [
    "# Imprima as informações gerais/resumidas sobre o DataFrame dos planos\n",
    "plans.info()"
   ]
  },
  {
   "cell_type": "code",
   "execution_count": 5,
   "metadata": {
    "id": "9MRo7tyVuj8f"
   },
   "outputs": [
    {
     "name": "stdout",
     "output_type": "stream",
     "text": [
      "   messages_included  mb_per_month_included  minutes_included  \\\n",
      "0                 50                  15360               500   \n",
      "1               1000                  30720              3000   \n",
      "\n",
      "   usd_monthly_pay  usd_per_gb  usd_per_message  usd_per_minute plan_name  \n",
      "0               20          10             0.03            0.03      surf  \n",
      "1               70           7             0.01            0.01  ultimate  \n"
     ]
    }
   ],
   "source": [
    "# Imprima uma amostra de dados dos planos\n",
    "print(plans.head())\n"
   ]
  },
  {
   "cell_type": "markdown",
   "metadata": {
    "id": "P8hzr-lquj8f"
   },
   "source": [
    "    Com base nos resultados obtidos através de .info() e .head() observo que a planilha tem apenas a informação geral dos planos, comparando os dois planos existentes. Ainda, os formatos dos dados (obtidos com .info()) estão de acordo com o esperado, não tendo valores ausentes também que mereçam destaque. "
   ]
  },
  {
   "cell_type": "markdown",
   "metadata": {
    "id": "YJg2O9qjuj8g"
   },
   "source": [
    "## Usuários"
   ]
  },
  {
   "cell_type": "code",
   "execution_count": 6,
   "metadata": {
    "id": "7JzxwD2juj8g"
   },
   "outputs": [
    {
     "name": "stdout",
     "output_type": "stream",
     "text": [
      "<class 'pandas.core.frame.DataFrame'>\n",
      "RangeIndex: 500 entries, 0 to 499\n",
      "Data columns (total 8 columns):\n",
      " #   Column      Non-Null Count  Dtype \n",
      "---  ------      --------------  ----- \n",
      " 0   user_id     500 non-null    int64 \n",
      " 1   first_name  500 non-null    object\n",
      " 2   last_name   500 non-null    object\n",
      " 3   age         500 non-null    int64 \n",
      " 4   city        500 non-null    object\n",
      " 5   reg_date    500 non-null    object\n",
      " 6   plan        500 non-null    object\n",
      " 7   churn_date  34 non-null     object\n",
      "dtypes: int64(2), object(6)\n",
      "memory usage: 31.4+ KB\n"
     ]
    }
   ],
   "source": [
    "# Imprima as informações gerais/resumidas sobre o DataFrame dos usuários\n",
    "users.info()"
   ]
  },
  {
   "cell_type": "code",
   "execution_count": 7,
   "metadata": {
    "id": "5KZ8XmD8uj8g"
   },
   "outputs": [
    {
     "name": "stdout",
     "output_type": "stream",
     "text": [
      "     user_id first_name last_name  age  \\\n",
      "287     1287      Heide      Gill   74   \n",
      "395     1395    Leonard    Wooten   24   \n",
      "86      1086      Adena    Macias   36   \n",
      "29      1029   Franklyn    Henson   59   \n",
      "0       1000   Anamaria     Bauer   45   \n",
      "\n",
      "                                          city    reg_date      plan  \\\n",
      "287        Sacramento–Roseville–Folsom, CA MSA  2018-03-15      surf   \n",
      "395  New York-Newark-Jersey City, NY-NJ-PA MSA  2018-06-19  ultimate   \n",
      "86   New York-Newark-Jersey City, NY-NJ-PA MSA  2018-01-13  ultimate   \n",
      "29     Tampa-St. Petersburg-Clearwater, FL MSA  2018-01-05      surf   \n",
      "0        Atlanta-Sandy Springs-Roswell, GA MSA  2018-12-24  ultimate   \n",
      "\n",
      "    churn_date  \n",
      "287        NaN  \n",
      "395        NaN  \n",
      "86         NaN  \n",
      "29         NaN  \n",
      "0          NaN  \n"
     ]
    }
   ],
   "source": [
    "# Imprima uma amostra de dados dos usuários\n",
    "print(users.sample(5)) \n",
    "    #como são mais informações posso estar trabalhando com .sample(5) para uma amostragem de 5 linhas dentro do DataFrame\n",
    "    #outra alternativa seria continuar trabalhando com .head()"
   ]
  },
  {
   "cell_type": "markdown",
   "metadata": {
    "id": "XGCgkfLvuj8h"
   },
   "source": [
    "- Conclusão\n",
    "       Com base nos resultados obtidos temos apenas a coluna churn_date apresentando valores ausentes, o que significa que boa parte dos planos ainda estavam ativos quando os dados foram extraidos. \n",
    "       É necessário trabalhar os dados em reg_date e churn_date para converte-los para o tipo datetime. Vale ressaltar que os dados estão no formato ano-mês-dia."
   ]
  },
  {
   "cell_type": "markdown",
   "metadata": {
    "id": "ppiEfe3luj8i"
   },
   "source": [
    "### Corrija os dados"
   ]
  },
  {
   "cell_type": "code",
   "execution_count": 8,
   "metadata": {
    "id": "Oa1XFooouj8j"
   },
   "outputs": [
    {
     "name": "stdout",
     "output_type": "stream",
     "text": [
      "<class 'pandas.core.frame.DataFrame'>\n",
      "RangeIndex: 500 entries, 0 to 499\n",
      "Data columns (total 8 columns):\n",
      " #   Column      Non-Null Count  Dtype         \n",
      "---  ------      --------------  -----         \n",
      " 0   user_id     500 non-null    int64         \n",
      " 1   first_name  500 non-null    object        \n",
      " 2   last_name   500 non-null    object        \n",
      " 3   age         500 non-null    int64         \n",
      " 4   city        500 non-null    object        \n",
      " 5   reg_date    500 non-null    datetime64[ns]\n",
      " 6   plan        500 non-null    object        \n",
      " 7   churn_date  34 non-null     datetime64[ns]\n",
      "dtypes: datetime64[ns](2), int64(2), object(4)\n",
      "memory usage: 31.4+ KB\n"
     ]
    }
   ],
   "source": [
    "#transformando os dados das colunas reg_date e churn_date para o tipo datetime64\n",
    "\n",
    "users['reg_date'] = pd.to_datetime(users['reg_date'], format='%Y-%m-%d')\n",
    "users['churn_date'] = pd.to_datetime(users['churn_date'], format='%Y-%m-%d')\n",
    "\n",
    "users.info() #conferir se alterou realmente para dateteime os dados"
   ]
  },
  {
   "cell_type": "markdown",
   "metadata": {
    "id": "H3gpde3Juj8j"
   },
   "source": [
    "### Enriqueça os dados"
   ]
  },
  {
   "cell_type": "code",
   "execution_count": 9,
   "metadata": {
    "id": "4vuUjT2juj8j",
    "scrolled": false
   },
   "outputs": [
    {
     "data": {
      "text/plain": [
       "Text(0.5, 0, 'Idade')"
      ]
     },
     "execution_count": 9,
     "metadata": {},
     "output_type": "execute_result"
    },
    {
     "data": {
      "image/png": "[encoded data removed]",
      "text/plain": [
       "<Figure size 640x480 with 1 Axes>"
      ]
     },
     "metadata": {},
     "output_type": "display_data"
    }
   ],
   "source": [
    "#histograma com distribuição da idade dos usuários\n",
    "\n",
    "plt.hist(users['age'], bins=30)\n",
    "plt.title('Histograma da idade')\n",
    "plt.xlabel('Idade')"
   ]
  },
  {
   "cell_type": "markdown",
   "metadata": {},
   "source": [
    "    Com base no histograma é possível observar que as idades dos assinantes dos planos apresentam uma ampla distribuição."
   ]
  },
  {
   "cell_type": "code",
   "execution_count": 10,
   "metadata": {},
   "outputs": [
    {
     "data": {
      "text/plain": [
       "Text(0, 0.5, 'idade')"
      ]
     },
     "execution_count": 10,
     "metadata": {},
     "output_type": "execute_result"
    },
    {
     "data": {
      "image/png": "[encoded data removed]",
      "text/plain": [
       "<Figure size 640x480 with 1 Axes>"
      ]
     },
     "metadata": {},
     "output_type": "display_data"
    }
   ],
   "source": [
    "#fazendo um boxplot com relação a idade dos usuários dos planos\n",
    "plt.boxplot(users['age'])\n",
    "plt.title('Histograma da idade')\n",
    "plt.xlabel('distribuição')\n",
    "plt.ylabel('idade')"
   ]
  },
  {
   "cell_type": "markdown",
   "metadata": {},
   "source": [
    "    De maneira complementar, o histograma mostra a distribuição dos dados, sem a presença de valores outliers.\n",
    "    \n",
    "    A idade poderia ser uma forma de justificar e entender os habitos de consumo dos planos quanto a ligações realizadas, número de mensagens enviadas e uso de internet."
   ]
  },
  {
   "cell_type": "markdown",
   "metadata": {
    "id": "f4uSIMuuuj8j"
   },
   "source": [
    "## Chamadas"
   ]
  },
  {
   "cell_type": "code",
   "execution_count": 11,
   "metadata": {
    "id": "hkY01fJnuj8j"
   },
   "outputs": [
    {
     "name": "stdout",
     "output_type": "stream",
     "text": [
      "<class 'pandas.core.frame.DataFrame'>\n",
      "RangeIndex: 137735 entries, 0 to 137734\n",
      "Data columns (total 4 columns):\n",
      " #   Column     Non-Null Count   Dtype  \n",
      "---  ------     --------------   -----  \n",
      " 0   id         137735 non-null  object \n",
      " 1   user_id    137735 non-null  int64  \n",
      " 2   call_date  137735 non-null  object \n",
      " 3   duration   137735 non-null  float64\n",
      "dtypes: float64(1), int64(1), object(2)\n",
      "memory usage: 4.2+ MB\n"
     ]
    }
   ],
   "source": [
    "# Imprima as informações gerais/resumidas sobre o DataFrame das chamadas\n",
    "calls.info()"
   ]
  },
  {
   "cell_type": "code",
   "execution_count": 12,
   "metadata": {
    "id": "wdBwJG5Yuj8k"
   },
   "outputs": [
    {
     "name": "stdout",
     "output_type": "stream",
     "text": [
      "              id  user_id   call_date  duration\n",
      "58110   1209_695     1209  2018-10-11     25.68\n",
      "136519  1494_361     1494  2018-09-14      9.58\n",
      "126379  1448_303     1448  2018-12-04      0.83\n",
      "115542  1404_336     1404  2018-10-28     10.22\n",
      "46854   1170_824     1170  2018-10-10      3.97\n",
      "\n",
      "         id  user_id   call_date  duration\n",
      "0   1000_93     1000  2018-12-27      8.52\n",
      "1  1000_145     1000  2018-12-27     13.66\n",
      "2  1000_247     1000  2018-12-27     14.48\n",
      "3  1000_309     1000  2018-12-28      5.76\n",
      "4  1000_380     1000  2018-12-30      4.22\n"
     ]
    }
   ],
   "source": [
    "# Imprima uma amostra de dados das chamadas\n",
    "print(calls.sample(5))\n",
    "    #aqui também posso usar o método .sample(5) para uma amostragem aleatoria de 5 linhas dentro do DataFrame\n",
    "\n",
    "print()\n",
    "print(calls.head())"
   ]
  },
  {
   "cell_type": "markdown",
   "metadata": {
    "id": "Y8An85-Tuj8k"
   },
   "source": [
    "- Conclusão\n",
    "\n",
    "    Analisando os dados do DataFrame calls, posso observar que são 137735 entradas em 4 colunas, as quais não apresentam nenhum valor ausente. Com relação aos tipos de dados, é necessário transformar os dados da coluna call_date de object para datetime e também arredondar os valores da coluna duration para cima, conforme instruções (\"mesmo que a chamada tenaha durado apenas um segundo, um minuto sera contado\")"
   ]
  },
  {
   "cell_type": "markdown",
   "metadata": {
    "id": "x5a99U4xuj8k"
   },
   "source": [
    "### Corrija os dados\n"
   ]
  },
  {
   "cell_type": "code",
   "execution_count": 13,
   "metadata": {
    "id": "lBjdw0Bnuj8l"
   },
   "outputs": [
    {
     "name": "stdout",
     "output_type": "stream",
     "text": [
      "<class 'pandas.core.frame.DataFrame'>\n",
      "RangeIndex: 137735 entries, 0 to 137734\n",
      "Data columns (total 4 columns):\n",
      " #   Column     Non-Null Count   Dtype         \n",
      "---  ------     --------------   -----         \n",
      " 0   id         137735 non-null  object        \n",
      " 1   user_id    137735 non-null  int64         \n",
      " 2   call_date  137735 non-null  datetime64[ns]\n",
      " 3   duration   137735 non-null  float64       \n",
      "dtypes: datetime64[ns](1), float64(1), int64(1), object(1)\n",
      "memory usage: 4.2+ MB\n"
     ]
    }
   ],
   "source": [
    "#Transformando a informação de data de object para datetime na respectiva coluna\n",
    "calls['call_date'] = pd.to_datetime(calls['call_date'], format='%Y-%m-%d')\n",
    "calls.info()  #conferindo se a alteração funcionou"
   ]
  },
  {
   "cell_type": "code",
   "execution_count": 14,
   "metadata": {},
   "outputs": [
    {
     "name": "stdout",
     "output_type": "stream",
     "text": [
      "<class 'pandas.core.frame.DataFrame'>\n",
      "RangeIndex: 137735 entries, 0 to 137734\n",
      "Data columns (total 4 columns):\n",
      " #   Column     Non-Null Count   Dtype         \n",
      "---  ------     --------------   -----         \n",
      " 0   id         137735 non-null  object        \n",
      " 1   user_id    137735 non-null  int64         \n",
      " 2   call_date  137735 non-null  datetime64[ns]\n",
      " 3   duration   137735 non-null  int64         \n",
      "dtypes: datetime64[ns](1), int64(2), object(1)\n",
      "memory usage: 4.2+ MB\n",
      "\n",
      "         id  user_id  call_date  duration\n",
      "0   1000_93     1000 2018-12-27         9\n",
      "1  1000_145     1000 2018-12-27        14\n",
      "2  1000_247     1000 2018-12-27        15\n",
      "3  1000_309     1000 2018-12-28         6\n",
      "4  1000_380     1000 2018-12-30         5\n"
     ]
    }
   ],
   "source": [
    "# aplicar uma função para arredondar os dados de duração da chamada (duration) para minutos cheios\n",
    "def arred_para_min(minutos):\n",
    "    return math.ceil(minutos)\n",
    "\n",
    "calls['duration'] = calls['duration'].apply(arred_para_min)\n",
    "\n",
    "calls.info()\n",
    "print()\n",
    "print(calls.head())"
   ]
  },
  {
   "cell_type": "markdown",
   "metadata": {
    "id": "MFm5xyh4uj8l"
   },
   "source": [
    "### Enriqueça os dados"
   ]
  },
  {
   "cell_type": "markdown",
   "metadata": {
    "id": "Udv2togruj8l"
   },
   "source": [
    "[Inclua fatores adicionais aos dados se você acredita que eles podem ser úteis.]"
   ]
  },
  {
   "cell_type": "code",
   "execution_count": 15,
   "metadata": {
    "scrolled": true
   },
   "outputs": [
    {
     "data": {
      "text/plain": [
       "Text(0.5, 0, 'Duração da ligação')"
      ]
     },
     "execution_count": 15,
     "metadata": {},
     "output_type": "execute_result"
    },
    {
     "data": {
      "image/png": "[encoded data removed]",
      "text/plain": [
       "<Figure size 640x480 with 1 Axes>"
      ]
     },
     "metadata": {},
     "output_type": "display_data"
    }
   ],
   "source": [
    "#histograma com distribuição da duração da ligação\n",
    "\n",
    "plt.hist(calls['duration'], bins=30)\n",
    "plt.title('Histograma de duração')\n",
    "plt.xlabel('Duração da ligação')"
   ]
  },
  {
   "cell_type": "markdown",
   "metadata": {},
   "source": [
    "    A distribuição da duração das ligações no histograma nos mostra uma maior participação dos valores até 10 minutos e mostra também que temos uma alta concentração de valor próximo a zero minutos."
   ]
  },
  {
   "cell_type": "code",
   "execution_count": 16,
   "metadata": {},
   "outputs": [
    {
     "data": {
      "text/plain": [
       "Text(0.5, 0, 'Distribuição')"
      ]
     },
     "execution_count": 16,
     "metadata": {},
     "output_type": "execute_result"
    },
    {
     "data": {
      "image/png": "[encoded data removed]",
      "text/plain": [
       "<Figure size 640x480 with 1 Axes>"
      ]
     },
     "metadata": {},
     "output_type": "display_data"
    }
   ],
   "source": [
    "#montando um boxplot da duração das ligações\n",
    "\n",
    "plt.boxplot(calls['duration'])\n",
    "plt.title('Histograma de duração da ligação')\n",
    "plt.ylabel('duração da ligação')\n",
    "plt.xlabel('Distribuição')"
   ]
  },
  {
   "cell_type": "markdown",
   "metadata": {},
   "source": [
    "    Com base no gráfico boxplot é possível observar que os dados de duração apresentam uma distribuição de proximo de zero até cerca de 25 minutos mas também apresenta alguns outliers."
   ]
  },
  {
   "cell_type": "markdown",
   "metadata": {
    "id": "qLz4FkyRuj8l"
   },
   "source": [
    "## Mensagens"
   ]
  },
  {
   "cell_type": "code",
   "execution_count": 17,
   "metadata": {
    "id": "nFA9DFkCuj8l"
   },
   "outputs": [
    {
     "name": "stdout",
     "output_type": "stream",
     "text": [
      "<class 'pandas.core.frame.DataFrame'>\n",
      "RangeIndex: 76051 entries, 0 to 76050\n",
      "Data columns (total 3 columns):\n",
      " #   Column        Non-Null Count  Dtype \n",
      "---  ------        --------------  ----- \n",
      " 0   id            76051 non-null  object\n",
      " 1   user_id       76051 non-null  int64 \n",
      " 2   message_date  76051 non-null  object\n",
      "dtypes: int64(1), object(2)\n",
      "memory usage: 1.7+ MB\n"
     ]
    }
   ],
   "source": [
    "# Imprima as informações gerais/resumidas sobre o DataFrame das mensagens\n",
    "messages.info()"
   ]
  },
  {
   "cell_type": "code",
   "execution_count": 18,
   "metadata": {
    "id": "ysEFBZWxuj8m"
   },
   "outputs": [
    {
     "name": "stdout",
     "output_type": "stream",
     "text": [
      "             id  user_id message_date\n",
      "37892  1250_145     1250   2018-10-29\n",
      "62122   1391_34     1391   2018-09-23\n",
      "54985   1347_22     1347   2018-11-17\n",
      "54543   1346_45     1346   2018-10-14\n",
      "55649  1349_549     1349   2018-10-16\n"
     ]
    }
   ],
   "source": [
    "# Imprima uma amostra dos dados das mensagens\n",
    "print(messages.sample(5))"
   ]
  },
  {
   "cell_type": "markdown",
   "metadata": {
    "id": "GUtt1TqCuj8m"
   },
   "source": [
    "- Conclusão\n",
    "\n",
    "    No DataFrame messages observo que são três colunas e 76051 entradas, sendo que não existem valores ausentes em nenhuma das colunas. Existe nesse DataFrame uma coluna contendo informação de data que precisa ser transformada de object para datetime."
   ]
  },
  {
   "cell_type": "markdown",
   "metadata": {
    "id": "tT8N_hc6uj8m"
   },
   "source": [
    "### Corrija os dados"
   ]
  },
  {
   "cell_type": "code",
   "execution_count": 19,
   "metadata": {
    "id": "SpBqbQHCuj8m"
   },
   "outputs": [
    {
     "name": "stdout",
     "output_type": "stream",
     "text": [
      "<class 'pandas.core.frame.DataFrame'>\n",
      "RangeIndex: 76051 entries, 0 to 76050\n",
      "Data columns (total 3 columns):\n",
      " #   Column        Non-Null Count  Dtype         \n",
      "---  ------        --------------  -----         \n",
      " 0   id            76051 non-null  object        \n",
      " 1   user_id       76051 non-null  int64         \n",
      " 2   message_date  76051 non-null  datetime64[ns]\n",
      "dtypes: datetime64[ns](1), int64(1), object(1)\n",
      "memory usage: 1.7+ MB\n"
     ]
    }
   ],
   "source": [
    "#Transformando a informação de data de object para datetime na respectiva coluna\n",
    "messages['message_date'] = pd.to_datetime(messages['message_date'], format='%Y-%m-%d') \n",
    "messages.info() #conferindo se "
   ]
  },
  {
   "cell_type": "markdown",
   "metadata": {
    "id": "feV2Njo9uj8n"
   },
   "source": [
    "### Enriqueça os dados"
   ]
  },
  {
   "cell_type": "code",
   "execution_count": 20,
   "metadata": {
    "id": "SkuCXcLJuj8n"
   },
   "outputs": [
    {
     "data": {
      "text/plain": [
       "Text(0, 0.5, 'Contagem')"
      ]
     },
     "execution_count": 20,
     "metadata": {},
     "output_type": "execute_result"
    },
    {
     "data": {
      "image/png": "[encoded data removed]",
      "text/plain": [
       "<Figure size 640x480 with 1 Axes>"
      ]
     },
     "metadata": {},
     "output_type": "display_data"
    }
   ],
   "source": [
    "#histograma com distribuição da data das mensagens\n",
    "\n",
    "plt.hist(messages['message_date'], bins=60)\n",
    "plt.title('Histograma de data das mensagens')\n",
    "plt.xlabel('Data das mensagens')\n",
    "plt.ylabel('Contagem')"
   ]
  },
  {
   "cell_type": "markdown",
   "metadata": {},
   "source": [
    "    Com base no histograma da data das mensagens, podemos observar um aumento na distribuição conforme chega o ano de 2019. Provavelmente em função da adesão de integrantes aos planos que ocorreu ao longo do ano."
   ]
  },
  {
   "cell_type": "markdown",
   "metadata": {
    "id": "ZRFaOWzGuj8n"
   },
   "source": [
    "## Internet"
   ]
  },
  {
   "cell_type": "code",
   "execution_count": 21,
   "metadata": {
    "id": "ob3-qv4nuj8n"
   },
   "outputs": [
    {
     "name": "stdout",
     "output_type": "stream",
     "text": [
      "<class 'pandas.core.frame.DataFrame'>\n",
      "RangeIndex: 104825 entries, 0 to 104824\n",
      "Data columns (total 4 columns):\n",
      " #   Column        Non-Null Count   Dtype  \n",
      "---  ------        --------------   -----  \n",
      " 0   id            104825 non-null  object \n",
      " 1   user_id       104825 non-null  int64  \n",
      " 2   session_date  104825 non-null  object \n",
      " 3   mb_used       104825 non-null  float64\n",
      "dtypes: float64(1), int64(1), object(2)\n",
      "memory usage: 3.2+ MB\n"
     ]
    }
   ],
   "source": [
    "# Imprima as informações gerais/resumidas sobre o DataFrame da internet\n",
    "internet.info()"
   ]
  },
  {
   "cell_type": "code",
   "execution_count": 22,
   "metadata": {
    "id": "iIHK4fZsuj8n"
   },
   "outputs": [
    {
     "name": "stdout",
     "output_type": "stream",
     "text": [
      "         id  user_id session_date  mb_used\n",
      "0   1000_13     1000   2018-12-29    89.86\n",
      "1  1000_204     1000   2018-12-31     0.00\n",
      "2  1000_379     1000   2018-12-28   660.40\n",
      "3  1000_413     1000   2018-12-26   270.99\n",
      "4  1000_442     1000   2018-12-27   880.22\n"
     ]
    }
   ],
   "source": [
    "#  Imprima uma amostra de dados para o tráfego da internet\n",
    "print(internet.head())"
   ]
  },
  {
   "cell_type": "markdown",
   "metadata": {
    "id": "6wpo7ugquj8o"
   },
   "source": [
    "- Conclusão\n",
    "\n",
    "    No DataFrame internet também observei que não há valores ausentes nas células, sendo necessário alterar session_date para o tipo datetime."
   ]
  },
  {
   "cell_type": "markdown",
   "metadata": {
    "id": "Tly90YrTuj8o"
   },
   "source": [
    "### Corrija os dados"
   ]
  },
  {
   "cell_type": "code",
   "execution_count": 23,
   "metadata": {
    "id": "GCoX7kbmuj8o"
   },
   "outputs": [
    {
     "name": "stdout",
     "output_type": "stream",
     "text": [
      "<class 'pandas.core.frame.DataFrame'>\n",
      "RangeIndex: 104825 entries, 0 to 104824\n",
      "Data columns (total 4 columns):\n",
      " #   Column        Non-Null Count   Dtype         \n",
      "---  ------        --------------   -----         \n",
      " 0   id            104825 non-null  object        \n",
      " 1   user_id       104825 non-null  int64         \n",
      " 2   session_date  104825 non-null  datetime64[ns]\n",
      " 3   mb_used       104825 non-null  float64       \n",
      "dtypes: datetime64[ns](1), float64(1), int64(1), object(1)\n",
      "memory usage: 3.2+ MB\n"
     ]
    }
   ],
   "source": [
    "#Transformando a informação de data de object para datetime na respectiva coluna\n",
    "internet['session_date'] = pd.to_datetime(internet['session_date'], format='%Y-%m-%d') \n",
    "internet.info()"
   ]
  },
  {
   "cell_type": "markdown",
   "metadata": {
    "id": "DEDbrtFduj8o"
   },
   "source": [
    "### Enriqueça os dados"
   ]
  },
  {
   "cell_type": "code",
   "execution_count": 24,
   "metadata": {
    "id": "f1PoZ3Ukuj8p"
   },
   "outputs": [
    {
     "data": {
      "text/plain": [
       "Text(0.5, 0, 'Quantidade de internet utilizada')"
      ]
     },
     "execution_count": 24,
     "metadata": {},
     "output_type": "execute_result"
    },
    {
     "data": {
      "image/png": "[encoded data removed]",
      "text/plain": [
       "<Figure size 640x480 with 1 Axes>"
      ]
     },
     "metadata": {},
     "output_type": "display_data"
    }
   ],
   "source": [
    "#histograma com distribuição da quantidade de internet utilizada\n",
    "\n",
    "plt.hist(internet['mb_used'], bins=60)\n",
    "plt.title('Histograma da quantidade de internet utilizada')\n",
    "plt.xlabel('Quantidade de internet utilizada')"
   ]
  },
  {
   "cell_type": "markdown",
   "metadata": {},
   "source": [
    "    O histograma de distribuição da quantidade de internet utilizada nos mostra valores em sua maioria segue uma distribuição mas que tem uma alta concentração de dados na quantidade zero de internet utilziada."
   ]
  },
  {
   "cell_type": "code",
   "execution_count": 25,
   "metadata": {},
   "outputs": [
    {
     "data": {
      "text/plain": [
       "Text(0.5, 0, 'Distribuição')"
      ]
     },
     "execution_count": 25,
     "metadata": {},
     "output_type": "execute_result"
    },
    {
     "data": {
      "image/png": "[encoded data removed]",
      "text/plain": [
       "<Figure size 640x480 with 1 Axes>"
      ]
     },
     "metadata": {},
     "output_type": "display_data"
    }
   ],
   "source": [
    "#montando um boxplot da quantidade de internet utilizada\n",
    "\n",
    "plt.boxplot(internet['mb_used'])\n",
    "plt.title('Boxplot de uso de internet')\n",
    "plt.ylabel('Megabytes utilizados')\n",
    "plt.xlabel('Distribuição')  "
   ]
  },
  {
   "cell_type": "markdown",
   "metadata": {},
   "source": [
    "    Com base no boxplot contendo o total de internet utilizado é possível observar um alto número de valores outliers nos dados."
   ]
  },
  {
   "cell_type": "markdown",
   "metadata": {
    "id": "bnOX4ARJuj8p"
   },
   "source": [
    "## Estude as condições dos planos"
   ]
  },
  {
   "cell_type": "code",
   "execution_count": 26,
   "metadata": {
    "id": "vMXVndWEuj8p"
   },
   "outputs": [
    {
     "name": "stdout",
     "output_type": "stream",
     "text": [
      "<class 'pandas.core.frame.DataFrame'>\n",
      "RangeIndex: 2 entries, 0 to 1\n",
      "Data columns (total 8 columns):\n",
      " #   Column                 Non-Null Count  Dtype  \n",
      "---  ------                 --------------  -----  \n",
      " 0   messages_included      2 non-null      int64  \n",
      " 1   mb_per_month_included  2 non-null      int64  \n",
      " 2   minutes_included       2 non-null      int64  \n",
      " 3   usd_monthly_pay        2 non-null      int64  \n",
      " 4   usd_per_gb             2 non-null      int64  \n",
      " 5   usd_per_message        2 non-null      float64\n",
      " 6   usd_per_minute         2 non-null      float64\n",
      " 7   plan_name              2 non-null      object \n",
      "dtypes: float64(2), int64(5), object(1)\n",
      "memory usage: 260.0+ bytes\n",
      "\n",
      "   messages_included  mb_per_month_included  minutes_included  \\\n",
      "0                 50                  15360               500   \n",
      "1               1000                  30720              3000   \n",
      "\n",
      "   usd_monthly_pay  usd_per_gb  usd_per_message  usd_per_minute plan_name  \n",
      "0               20          10             0.03            0.03      surf  \n",
      "1               70           7             0.01            0.01  ultimate  \n"
     ]
    }
   ],
   "source": [
    "# Imprima as condições do plano e certifique-se de que elas fazem sentido para você\n",
    "plans.info()\n",
    "print()\n",
    "print(plans.head()) #para olhar novamente o DataFrame (como é pequeno é mais visível as condições dos planos)"
   ]
  },
  {
   "cell_type": "markdown",
   "metadata": {
    "id": "1v1EshDmuj8q"
   },
   "source": [
    "## Agregue os dados por usuário\n"
   ]
  },
  {
   "cell_type": "code",
   "execution_count": 27,
   "metadata": {
    "id": "4hmb2pSPuj8q"
   },
   "outputs": [
    {
     "name": "stdout",
     "output_type": "stream",
     "text": [
      "      user_id  month  call_count\n",
      "0        1000     12          16\n",
      "1        1001      8          27\n",
      "2        1001      9          49\n",
      "3        1001     10          65\n",
      "4        1001     11          64\n",
      "...       ...    ...         ...\n",
      "2253     1498     12          39\n",
      "2254     1499      9          41\n",
      "2255     1499     10          53\n",
      "2256     1499     11          45\n",
      "2257     1499     12          65\n",
      "\n",
      "[2258 rows x 3 columns]\n"
     ]
    }
   ],
   "source": [
    "# Calcule o número de chamadas feitas por cada usuário por mês. Salve o resultado.\n",
    "\n",
    "#preciso extraír o mês da coluna 'call_date' e adicionar em uma coluna que vou chamar de 'month'\n",
    "calls['month'] = calls['call_date'].dt.month\n",
    "\n",
    "#agrupar os dados por 'user_id' e 'month', chamar os dados em uma coluna 'call_count' (contagem de ligações)\n",
    "calls_monthly_count = calls.groupby(['user_id', 'month']).size().reset_index(name='call_count')\n",
    "\n",
    "print(calls_monthly_count)"
   ]
  },
  {
   "cell_type": "code",
   "execution_count": 28,
   "metadata": {
    "id": "yHgBWCJJuj8q"
   },
   "outputs": [
    {
     "name": "stdout",
     "output_type": "stream",
     "text": [
      "       user_id  duration  minute_count\n",
      "0         1000         2             1\n",
      "1         1000         3             1\n",
      "2         1000         4             1\n",
      "3         1000         5             3\n",
      "4         1000         6             4\n",
      "...        ...       ...           ...\n",
      "11023     1499        20             3\n",
      "11024     1499        22             1\n",
      "11025     1499        23             1\n",
      "11026     1499        24             1\n",
      "11027     1499        25             1\n",
      "\n",
      "[11028 rows x 3 columns]\n"
     ]
    }
   ],
   "source": [
    "# Calcule a quantidade de minutos gastos por cada usuário por mês. Salve o resultado.\n",
    "calls['month'] = calls['call_date'].dt.month\n",
    "\n",
    "#agrupar os dados por 'user_id' e 'month', chamar os dados em uma coluna 'minute_count'\n",
    "user_minutes = calls.groupby(['user_id','duration']).size().reset_index(name='minute_count')\n",
    "print(user_minutes)"
   ]
  },
  {
   "cell_type": "code",
   "execution_count": 29,
   "metadata": {
    "id": "MaM_cPxauj8q"
   },
   "outputs": [
    {
     "name": "stdout",
     "output_type": "stream",
     "text": [
      "      user_id  month  message_count\n",
      "0        1000     12             11\n",
      "1        1001      8             30\n",
      "2        1001      9             44\n",
      "3        1001     10             53\n",
      "4        1001     11             36\n",
      "...       ...    ...            ...\n",
      "1801     1496      9             21\n",
      "1802     1496     10             18\n",
      "1803     1496     11             13\n",
      "1804     1496     12             11\n",
      "1805     1497     12             50\n",
      "\n",
      "[1806 rows x 3 columns]\n"
     ]
    }
   ],
   "source": [
    "# Calcule o número de mensagens enviadas por cada usuário por mês. Salve o resultado.\n",
    "messages['month'] = messages['message_date'].dt.month\n",
    "\n",
    "#agrupar os dados por 'user_id' e 'month', chamar os dados em uma coluna 'message_count'\n",
    "messages_user_month = messages.groupby(['user_id','month']).size().reset_index(name='message_count')\n",
    "\n",
    "print(messages_user_month)"
   ]
  },
  {
   "cell_type": "code",
   "execution_count": 30,
   "metadata": {
    "id": "WsCEZJ_xuj8q"
   },
   "outputs": [
    {
     "name": "stdout",
     "output_type": "stream",
     "text": [
      "      user_id  month  internet_count\n",
      "0        1000     12               5\n",
      "1        1001      8              25\n",
      "2        1001      9              53\n",
      "3        1001     10              56\n",
      "4        1001     11              51\n",
      "...       ...    ...             ...\n",
      "2272     1498     12              65\n",
      "2273     1499      9              45\n",
      "2274     1499     10              61\n",
      "2275     1499     11              49\n",
      "2276     1499     12              65\n",
      "\n",
      "[2277 rows x 3 columns]\n"
     ]
    }
   ],
   "source": [
    "# Calcule o volume de tráfego de internet usado por cada usuário por mês. Salve o resultado.\n",
    "\n",
    "internet['month'] = internet['session_date'].dt.month\n",
    "\n",
    "#agrupar os dados por 'user_id' e 'month', chamar os dados em uma coluna 'internet_count'\n",
    "internet_user_month = internet.groupby(['user_id','month']).size().reset_index(name='internet_count')\n",
    "print(internet_user_month)"
   ]
  },
  {
   "cell_type": "code",
   "execution_count": 31,
   "metadata": {
    "id": "BYDTkxOauj8r"
   },
   "outputs": [
    {
     "name": "stdout",
     "output_type": "stream",
     "text": [
      "         id  user_id  call_date  duration  month  message_count\n",
      "0   1000_93     1000 2018-12-27       9.0     12           11.0\n",
      "1  1000_145     1000 2018-12-27      14.0     12           11.0\n",
      "2  1000_247     1000 2018-12-27      15.0     12           11.0\n",
      "3  1000_309     1000 2018-12-28       6.0     12           11.0\n",
      "4  1000_380     1000 2018-12-30       5.0     12           11.0\n",
      "\n",
      "<class 'pandas.core.frame.DataFrame'>\n",
      "RangeIndex: 137768 entries, 0 to 137767\n",
      "Data columns (total 6 columns):\n",
      " #   Column         Non-Null Count   Dtype         \n",
      "---  ------         --------------   -----         \n",
      " 0   id             137735 non-null  object        \n",
      " 1   user_id        137768 non-null  int64         \n",
      " 2   call_date      137735 non-null  datetime64[ns]\n",
      " 3   duration       137735 non-null  float64       \n",
      " 4   month          137768 non-null  int32         \n",
      " 5   message_count  110148 non-null  float64       \n",
      "dtypes: datetime64[ns](1), float64(2), int32(1), int64(1), object(1)\n",
      "memory usage: 5.8+ MB\n"
     ]
    }
   ],
   "source": [
    "# Junte os dados de chamadas, minutos, mensagens e internet com base em user_id e month\n",
    "\n",
    "dados = calls.merge(messages_user_month, on=['user_id','month'], how='outer')\n",
    "print(dados.head())\n",
    "print()\n",
    "dados.info()"
   ]
  },
  {
   "cell_type": "code",
   "execution_count": 32,
   "metadata": {
    "scrolled": true
   },
   "outputs": [
    {
     "name": "stdout",
     "output_type": "stream",
     "text": [
      "   user_id  duration  month  message_count  mb_used\n",
      "0     1000       9.0     12           11.0    89.86\n",
      "1     1000       9.0     12           11.0     0.00\n",
      "2     1000       9.0     12           11.0   660.40\n",
      "3     1000       9.0     12           11.0   270.99\n",
      "4     1000       9.0     12           11.0   880.22\n",
      "\n",
      "<class 'pandas.core.frame.DataFrame'>\n",
      "RangeIndex: 6736736 entries, 0 to 6736735\n",
      "Data columns (total 5 columns):\n",
      " #   Column         Dtype  \n",
      "---  ------         -----  \n",
      " 0   user_id        int64  \n",
      " 1   duration       float64\n",
      " 2   month          int32  \n",
      " 3   message_count  float64\n",
      " 4   mb_used        float64\n",
      "dtypes: float64(3), int32(1), int64(1)\n",
      "memory usage: 231.3 MB\n"
     ]
    }
   ],
   "source": [
    "#Unir as informações de dados com internet\n",
    "\n",
    "dados_e_internet = dados.merge(internet, on=['user_id','month'], how='outer')\n",
    "\n",
    "dados_e_internet = dados_e_internet.drop(['id_x','id_y','call_date','session_date'], axis='columns') \n",
    "    #aqui acabei removendo algumas informações desnecessárias com drop()\n",
    "\n",
    "print(dados_e_internet.head())\n",
    "print()\n",
    "dados_e_internet.info()"
   ]
  },
  {
   "cell_type": "code",
   "execution_count": 33,
   "metadata": {
    "id": "SW-sgLaHuj8r"
   },
   "outputs": [],
   "source": [
    "# Adicione as informações sobre o plano\n",
    "\n",
    "#para isso preciso criar uma função que siga alguns os limites caracteristicos de cada um dos planos\n",
    "\n",
    "def categorize_plan(row):\n",
    "    if (row['duration'] > 500) or (row['message_count'] > 50) or (row['mb_used'] > 15360):\n",
    "        return 'ultimate'\n",
    "    else:\n",
    "        return 'surf'\n",
    "\n",
    "\n",
    "#aplicando a função no DataFrame dados_e_internet para criar uma coluna 'plan' contendo 'surf' ou 'ultimate' conforme as regras\n",
    "dados_e_internet['plan'] = dados_e_internet.apply(categorize_plan, axis=1)\n",
    "\n"
   ]
  },
  {
   "cell_type": "code",
   "execution_count": 34,
   "metadata": {},
   "outputs": [
    {
     "name": "stdout",
     "output_type": "stream",
     "text": [
      "         user_id  duration  month  message_count  mb_used      plan\n",
      "5552651     1397       0.0     12            NaN   387.87      surf\n",
      "5617139     1399      10.0     12           24.0   465.63      surf\n",
      "4084951     1291       0.0     10           14.0   272.34      surf\n",
      "4400168     1320       3.0      8           68.0   456.88  ultimate\n",
      "767404      1061       2.0     12           93.0   310.56  ultimate\n",
      "<class 'pandas.core.frame.DataFrame'>\n",
      "RangeIndex: 6736736 entries, 0 to 6736735\n",
      "Data columns (total 6 columns):\n",
      " #   Column         Dtype  \n",
      "---  ------         -----  \n",
      " 0   user_id        int64  \n",
      " 1   duration       float64\n",
      " 2   month          int32  \n",
      " 3   message_count  float64\n",
      " 4   mb_used        float64\n",
      " 5   plan           object \n",
      "dtypes: float64(3), int32(1), int64(1), object(1)\n",
      "memory usage: 282.7+ MB\n"
     ]
    }
   ],
   "source": [
    "#conferindo se a coluna plan apresenta 'surf' e 'ultimate'\n",
    "print(dados_e_internet.sample(5))\n",
    "dados_e_internet.info()"
   ]
  },
  {
   "cell_type": "code",
   "execution_count": 35,
   "metadata": {
    "scrolled": true
   },
   "outputs": [
    {
     "name": "stdout",
     "output_type": "stream",
     "text": [
      "2\n"
     ]
    }
   ],
   "source": [
    "print(dados_e_internet['plan'].nunique()) # conferindo a quantidade de dados univocos na coluna plan (tem que ser 2 nesse caso)"
   ]
  },
  {
   "cell_type": "markdown",
   "metadata": {},
   "source": [
    "Calcule a receita mensal para cada usuário: subtraia o limite gratuito do pacote do número total de chamadas, mensagens de texto e dados; multiplique o resultado pelo valor do plano de chamadas; adicione o preço mensal dependendo do plano. Importante: isso pode não ser tão trivial quanto apenas algumas linhas, dadas as condições do plano. "
   ]
  },
  {
   "cell_type": "code",
   "execution_count": 36,
   "metadata": {},
   "outputs": [
    {
     "name": "stdout",
     "output_type": "stream",
     "text": [
      "   messages_included  mb_per_month_included  minutes_included  \\\n",
      "0                 50                  15360               500   \n",
      "1               1000                  30720              3000   \n",
      "\n",
      "   usd_monthly_pay  usd_per_gb  usd_per_message  usd_per_minute plan_name  \n",
      "0               20          10             0.03            0.03      surf  \n",
      "1               70           7             0.01            0.01  ultimate  \n"
     ]
    }
   ],
   "source": [
    "print(plans.head())  #para me ajudar a lembrar quais as condições dos planos para usar na sequência"
   ]
  },
  {
   "cell_type": "code",
   "execution_count": 37,
   "metadata": {
    "id": "JiPHXbQAuj8r",
    "scrolled": true
   },
   "outputs": [],
   "source": [
    "# Calcule a receita mensal para cada usuário\n",
    "\n",
    "#preciso definir algumas funções para calcular a receita conforme as particularidades de cada plano\n",
    "\n",
    "# Calcular o custo de minutos\n",
    "def calculate_minutes_cost(plan, duration):\n",
    "    if plan == 'surf':\n",
    "        return max(duration - 500, 0) * 0.03\n",
    "    else:\n",
    "        return max(duration - 3000, 0) * 0.01\n",
    "\n",
    "# Calcular o custo de mensagens\n",
    "def calculate_messages_cost(plan, message_count):\n",
    "    if plan == 'surf':\n",
    "        return max(message_count - 50, 0) * 0.03\n",
    "    else:\n",
    "        return max(message_count - 1000, 0) * 0.01\n",
    "\n",
    "# Calcular o custo de dados\n",
    "def calculate_data_cost(plan, mb_used):\n",
    "    if plan == 'surf':\n",
    "        return max((mb_used - 15360) / 1024, 0) * 10\n",
    "    else:\n",
    "        return max((mb_used - 30720) / 1024, 0) * 7\n",
    "\n",
    "# Função para calcular a receita mensal com base nas condições do plano\n",
    "def calculate_revenue(row):\n",
    "    plan = row['plan']\n",
    "    minutes_cost = calculate_minutes_cost(plan, row['duration'])\n",
    "    messages_cost = calculate_messages_cost(plan, row['message_count'])\n",
    "    data_cost = calculate_data_cost(plan, row['mb_used'])\n",
    "    monthly_cost = 20 if plan == 'surf' else 70  # Preço mensal do plano\n",
    "\n",
    "    return minutes_cost + messages_cost + data_cost + monthly_cost\n",
    "\n",
    "# Aplicar a função a cada linha do DataFrame e criar uma nova coluna 'revenue' (receita)\n",
    "dados_e_internet['revenue'] = dados_e_internet.apply(calculate_revenue, axis=1)\n",
    "\n"
   ]
  },
  {
   "cell_type": "code",
   "execution_count": 38,
   "metadata": {},
   "outputs": [
    {
     "name": "stdout",
     "output_type": "stream",
     "text": [
      "     user_id  revenue\n",
      "473     1483  20.0000\n",
      "95      1096  20.0000\n",
      "140     1142  20.0000\n",
      "30      1031  20.0000\n",
      "441     1449      NaN\n",
      "309     1315  20.0000\n",
      "394     1402      NaN\n",
      "223     1226      NaN\n",
      "208     1211  51.3415\n",
      "33      1034  20.0000\n"
     ]
    }
   ],
   "source": [
    "#agrupando os dados por user_id\n",
    "receita_mensal_e_userid = dados_e_internet.groupby(['user_id'])['revenue'].mean().reset_index()\n",
    "\n",
    "print(receita_mensal_e_userid.sample(10))"
   ]
  },
  {
   "cell_type": "code",
   "execution_count": 39,
   "metadata": {},
   "outputs": [],
   "source": [
    "#unindo os DataFrames\n",
    "receita_mensal = dados_e_internet.merge(receita_mensal_e_userid, on=['user_id'], how='outer')\n"
   ]
  },
  {
   "cell_type": "code",
   "execution_count": 40,
   "metadata": {},
   "outputs": [
    {
     "name": "stdout",
     "output_type": "stream",
     "text": [
      "         user_id  duration  month  message_count  mb_used      plan  \\\n",
      "4250200     1305       8.0      9            6.0    14.73      surf   \n",
      "4187715     1299       3.0      6            6.0   502.94      surf   \n",
      "3185237     1231      10.0     11            3.0    71.43      surf   \n",
      "5879061     1415      11.0     12            NaN   618.14      surf   \n",
      "4387572     1320       5.0      9           60.0   622.81  ultimate   \n",
      "3977255     1281      10.0     11           45.0   424.37      surf   \n",
      "4945787     1356       0.0     11           25.0   361.35      surf   \n",
      "926614      1069      12.0     11          102.0    80.31  ultimate   \n",
      "861300      1065       5.0     11           29.0   117.27      surf   \n",
      "4612959     1330       7.0     12           98.0    91.69  ultimate   \n",
      "\n",
      "         revenue_x  revenue_y  \n",
      "4250200       20.0  20.000000  \n",
      "4187715       20.0  20.000000  \n",
      "3185237       20.0  20.000000  \n",
      "5879061        NaN        NaN  \n",
      "4387572       70.0  68.551612  \n",
      "3977255       20.0  32.754387  \n",
      "4945787       20.0  20.000000  \n",
      "926614        70.0  70.000000  \n",
      "861300        20.0  20.000000  \n",
      "4612959       70.0  70.000000  \n"
     ]
    }
   ],
   "source": [
    "print(receita_mensal.sample(10)) #usar sample para descobrir qual revenue (x ou y dropar)"
   ]
  },
  {
   "cell_type": "code",
   "execution_count": 41,
   "metadata": {},
   "outputs": [],
   "source": [
    "#removendo alguns valores indesejados\n",
    "receita_mensal = receita_mensal.drop(['revenue_x'], axis='columns') \n",
    "#removido o revenue_x pois os dados ou davam 20 ou 70"
   ]
  },
  {
   "cell_type": "code",
   "execution_count": 42,
   "metadata": {
    "scrolled": true
   },
   "outputs": [
    {
     "name": "stdout",
     "output_type": "stream",
     "text": [
      "   user_id  duration  month  message_count  mb_used  plan  revenue\n",
      "0     1000       9.0     12           11.0    89.86  surf     20.0\n",
      "1     1000       9.0     12           11.0     0.00  surf     20.0\n",
      "2     1000       9.0     12           11.0   660.40  surf     20.0\n",
      "3     1000       9.0     12           11.0   270.99  surf     20.0\n",
      "4     1000       9.0     12           11.0   880.22  surf     20.0\n"
     ]
    }
   ],
   "source": [
    "#renomeando a coluna revenue_x para revenue\n",
    "receita_mensal = receita_mensal.rename(columns={'revenue_y': 'revenue'})\n",
    "\n",
    "print(receita_mensal.head())"
   ]
  },
  {
   "cell_type": "code",
   "execution_count": 43,
   "metadata": {},
   "outputs": [
    {
     "name": "stdout",
     "output_type": "stream",
     "text": [
      "         user_id  duration  month  message_count  mb_used  plan  revenue\n",
      "920052      1068       3.0      7            NaN     0.00  surf      NaN\n",
      "4879533     1352      10.0     12           37.0   248.54  surf     20.0\n",
      "6604048     1490       6.0      8            NaN   423.32  surf      NaN\n",
      "4177228     1299      11.0      5            8.0   201.68  surf     20.0\n",
      "5101772     1364      11.0     10           14.0   414.94  surf     20.0\n",
      "3157486     1226       9.0     11            NaN   288.05  surf      NaN\n",
      "993207      1073       3.0      5            NaN   653.07  surf      NaN\n",
      "3239567     1232       4.0     10            4.0   210.26  surf     20.0\n",
      "2149710     1157       0.0      9            NaN   209.60  surf      NaN\n",
      "1177627     1085      11.0     10            NaN   180.48  surf      NaN\n"
     ]
    }
   ],
   "source": [
    "print(receita_mensal.sample(10)) #conferindo novamente se os dados de revenue mudam conforme user_id"
   ]
  },
  {
   "cell_type": "markdown",
   "metadata": {
    "id": "0HFWXKTQuj8r"
   },
   "source": [
    "## Estude o comportamento do usuário"
   ]
  },
  {
   "cell_type": "markdown",
   "metadata": {
    "id": "umaMfSLxuj8s"
   },
   "source": [
    "### Chamadas"
   ]
  },
  {
   "cell_type": "code",
   "execution_count": 47,
   "metadata": {
    "id": "0236-tJnuj8t",
    "scrolled": true
   },
   "outputs": [
    {
     "data": {
      "text/plain": [
       "<Figure size 1000x600 with 0 Axes>"
      ]
     },
     "metadata": {},
     "output_type": "display_data"
    },
    {
     "data": {
      "image/png": "[encoded data removed]",
      "text/plain": [
       "<Figure size 640x480 with 1 Axes>"
      ]
     },
     "metadata": {},
     "output_type": "display_data"
    }
   ],
   "source": [
    "# Compare a duração média das chamadas de cada plano para cada mês distinto. Crie um gráfico de barras para visualizá-lo.\n",
    "\n",
    "df_means = dados_e_internet.groupby(['month','plan'])['duration'].mean() #agrupar os dados com a duração média\n",
    "\n",
    "#montar o gráfico agora com base no agrupamento\n",
    "plt.figure(figsize=[10,6])\n",
    "df_means.unstack().plot(kind='bar', title='Duração média das chamadas por mês e plano')\n",
    "plt.xlabel('Mês do ano')\n",
    "plt.ylabel('Duração média das chamadas')\n",
    "plt.xticks(rotation=45)\n",
    "plt.legend(title='Plano')\n",
    "\n",
    "plt.show()"
   ]
  },
  {
   "cell_type": "code",
   "execution_count": 48,
   "metadata": {
    "id": "9sCQ1lP8uj8u"
   },
   "outputs": [
    {
     "data": {
      "image/png": "[encoded data removed]",
      "text/plain": [
       "<Figure size 1000x600 with 1 Axes>"
      ]
     },
     "metadata": {},
     "output_type": "display_data"
    }
   ],
   "source": [
    "# Compare o número de minutos de que os usuários de cada plano necessitam a cada mês. Construa um histograma.\n",
    "\n",
    "plt.figure(figsize=(10, 6)) #determinar o tamanho da figura\n",
    "\n",
    "#criando um ciclo for para iterar sobre os dados\n",
    "for plan in dados_e_internet['plan'].unique():  #iterar sobre cada plano\n",
    "    data = dados_e_internet[dados_e_internet['plan'] == plan]['duration']  #para cada plano vou selecionar os valores da coluna duration\n",
    "    plt.hist(data, bins=20, alpha=0.7, label=plan) # e aqui crio o histograma \n",
    "\n",
    "plt.xlabel('Minutos utilizados')\n",
    "plt.ylabel('Contagem de usuários')\n",
    "plt.title('Minutos utilizados por mês e plano')\n",
    "plt.legend()\n",
    "\n",
    "#mostrar o histograma\n",
    "plt.show()"
   ]
  },
  {
   "cell_type": "code",
   "execution_count": 49,
   "metadata": {
    "id": "cIdodPExuj8u"
   },
   "outputs": [
    {
     "name": "stderr",
     "output_type": "stream",
     "text": [
      "C:\\Users\\renan\\AppData\\Local\\Temp\\ipykernel_7036\\3242429223.py:4: FutureWarning: The provided callable <function mean at 0x0000027ACE977740> is currently using SeriesGroupBy.mean. In a future version of pandas, the provided callable will be used directly. To keep current behavior pass the string \"mean\" instead.\n",
      "  mean_e_var = dados_e_internet.groupby('month')['duration'].agg([np.mean, np.var,np.std])\n",
      "C:\\Users\\renan\\AppData\\Local\\Temp\\ipykernel_7036\\3242429223.py:4: FutureWarning: The provided callable <function var at 0x0000027ACE9779C0> is currently using SeriesGroupBy.var. In a future version of pandas, the provided callable will be used directly. To keep current behavior pass the string \"var\" instead.\n",
      "  mean_e_var = dados_e_internet.groupby('month')['duration'].agg([np.mean, np.var,np.std])\n"
     ]
    },
    {
     "name": "stdout",
     "output_type": "stream",
     "text": [
      "           mean        var       std\n",
      "month                               \n",
      "1      7.028287  34.318540  5.858203\n",
      "2      7.109022  34.796994  5.898898\n",
      "3      6.949642  33.330285  5.773239\n",
      "4      7.145222  34.117404  5.841011\n",
      "5      7.131819  36.049832  6.004151\n",
      "6      7.215071  35.919217  5.993264\n",
      "7      7.195222  35.207843  5.933620\n",
      "8      7.112513  35.389445  5.948903\n",
      "9      7.137688  35.878450  5.989862\n",
      "10     7.119679  35.390084  5.948957\n",
      "11     7.117958  35.211491  5.933927\n",
      "12     7.170389  35.570631  5.964112\n"
     ]
    },
    {
     "name": "stderr",
     "output_type": "stream",
     "text": [
      "C:\\Users\\renan\\AppData\\Local\\Temp\\ipykernel_7036\\3242429223.py:4: FutureWarning: The provided callable <function std at 0x0000027ACE977880> is currently using SeriesGroupBy.std. In a future version of pandas, the provided callable will be used directly. To keep current behavior pass the string \"std\" instead.\n",
      "  mean_e_var = dados_e_internet.groupby('month')['duration'].agg([np.mean, np.var,np.std])\n"
     ]
    }
   ],
   "source": [
    "# Calcule a média e a variação da duração mensal das chamadas\n",
    "\n",
    "#preciso agrupar os dados pela coluna 'month' e calcular a média e a variância da coluna 'duration'\n",
    "mean_e_var = dados_e_internet.groupby('month')['duration'].agg([np.mean, np.var,np.std])  \n",
    "\n",
    "print(mean_e_var)\n"
   ]
  },
  {
   "cell_type": "code",
   "execution_count": 50,
   "metadata": {
    "id": "DW7vTypxuj8u"
   },
   "outputs": [
    {
     "data": {
      "image/png": "[encoded data removed]",
      "text/plain": [
       "<Figure size 1000x600 with 1 Axes>"
      ]
     },
     "metadata": {},
     "output_type": "display_data"
    }
   ],
   "source": [
    "# Faça um diagrama de caixa para visualizar a distribuição da duração mensal das chamadas\n",
    "\n",
    "\n",
    "mean_data = mean_e_var['mean'] #atribuindo a média a uma nova variável\n",
    "plt.figure(figsize=[10,6])\n",
    "plt.boxplot(mean_data)\n",
    "plt.xlabel('Distribuição')\n",
    "plt.ylabel('Duração mensal chamada')\n",
    "plt.title('Distribuição duração mensal da chamada via boxplot')\n",
    "\n",
    "plt.show()"
   ]
  },
  {
   "cell_type": "markdown",
   "metadata": {
    "id": "Uyt3rWn7uj8u"
   },
   "source": [
    "- Conclusão\n",
    "\n",
    "    Com base nos resultados, ao comparar a duração média das chamadas por mês e plano há um comportamento semelhante entre os usuários, e ao analisar o histograma ambos os planos apresentam uma distribuição semelhante  visualmente falando, e ao comparar a duração média pelo boxplot podemos observar que a maioria dos dados se encontra entre 7,12 e 7,20 minutos, apresentando três outliers  na casa dos 6,96; 7,03 e 7,22.\n",
    "    Outra ponto que merece destaque é que os usuários do plano ultimate aparentemente não realizaram nenhuma ligação no mês 1 uma vez que não tem um gráfico de barras para esse mês."
   ]
  },
  {
   "cell_type": "markdown",
   "metadata": {
    "id": "2hWSPtrnuj8v"
   },
   "source": [
    "### Mensagens"
   ]
  },
  {
   "cell_type": "code",
   "execution_count": 51,
   "metadata": {
    "id": "9kPlAhOJuj8v"
   },
   "outputs": [
    {
     "data": {
      "text/plain": [
       "<Figure size 1000x600 with 0 Axes>"
      ]
     },
     "metadata": {},
     "output_type": "display_data"
    },
    {
     "data": {
      "image/png": "[encoded data removed]",
      "text/plain": [
       "<Figure size 640x480 with 1 Axes>"
      ]
     },
     "metadata": {},
     "output_type": "display_data"
    }
   ],
   "source": [
    "# Compare o número de mensagens que os usuários de cada plano tendem a enviar a cada mês\n",
    "\n",
    "message_means = dados_e_internet.groupby(['month','plan'])['message_count'].mean()\n",
    "\n",
    "plt.figure(figsize=[10,6])\n",
    "message_means.unstack().plot(kind='bar', title='Média de mensages enviadas por mês e plano')\n",
    "plt.xlabel('Mês do ano')\n",
    "plt.ylabel('Número médio de mensagens')\n",
    "plt.xticks(rotation=45)\n",
    "plt.legend(title='Plano')\n",
    "\n",
    "plt.show()\n"
   ]
  },
  {
   "cell_type": "code",
   "execution_count": 52,
   "metadata": {},
   "outputs": [
    {
     "data": {
      "image/png": "[encoded data removed]",
      "text/plain": [
       "<Figure size 1000x600 with 1 Axes>"
      ]
     },
     "metadata": {},
     "output_type": "display_data"
    }
   ],
   "source": [
    "#montar um histograma quanto as mensagens\n",
    "\n",
    "plt.figure(figsize=(10, 6)) #determinar o tamanho da figura\n",
    "\n",
    "for plan in dados_e_internet['plan'].unique():  #iterar sobre cada plano\n",
    "    data = dados_e_internet[dados_e_internet['plan'] == plan]['message_count']  #para cada plano vou selecionar os valores da coluna message_count\n",
    "    plt.hist(data, bins=20, alpha=0.7, label=plan) # e aqui crio o histograma \n",
    "\n",
    "plt.xlabel('Mensagens enviadas')\n",
    "plt.ylabel('Contagem de usuários')\n",
    "plt.title('Mensagens utilizados por mês e plano')\n",
    "plt.legend()\n",
    "\n",
    "# Mostrar o histograma\n",
    "plt.show()"
   ]
  },
  {
   "cell_type": "code",
   "execution_count": 53,
   "metadata": {},
   "outputs": [
    {
     "name": "stderr",
     "output_type": "stream",
     "text": [
      "C:\\Users\\renan\\AppData\\Local\\Temp\\ipykernel_7036\\3207568717.py:4: FutureWarning: The provided callable <function mean at 0x0000027ACE977740> is currently using SeriesGroupBy.mean. In a future version of pandas, the provided callable will be used directly. To keep current behavior pass the string \"mean\" instead.\n",
      "  mean_e_var_message = dados_e_internet.groupby('month')['message_count'].agg([np.mean, np.var,np.std])\n",
      "C:\\Users\\renan\\AppData\\Local\\Temp\\ipykernel_7036\\3207568717.py:4: FutureWarning: The provided callable <function var at 0x0000027ACE9779C0> is currently using SeriesGroupBy.var. In a future version of pandas, the provided callable will be used directly. To keep current behavior pass the string \"var\" instead.\n",
      "  mean_e_var_message = dados_e_internet.groupby('month')['message_count'].agg([np.mean, np.var,np.std])\n",
      "C:\\Users\\renan\\AppData\\Local\\Temp\\ipykernel_7036\\3207568717.py:4: FutureWarning: The provided callable <function std at 0x0000027ACE977880> is currently using SeriesGroupBy.std. In a future version of pandas, the provided callable will be used directly. To keep current behavior pass the string \"std\" instead.\n",
      "  mean_e_var_message = dados_e_internet.groupby('month')['message_count'].agg([np.mean, np.var,np.std])\n"
     ]
    },
    {
     "name": "stdout",
     "output_type": "stream",
     "text": [
      "           mean        var       std\n",
      "month                               \n",
      "1      7.028287  34.318540  5.858203\n",
      "2      7.109022  34.796994  5.898898\n",
      "3      6.949642  33.330285  5.773239\n",
      "4      7.145222  34.117404  5.841011\n",
      "5      7.131819  36.049832  6.004151\n",
      "6      7.215071  35.919217  5.993264\n",
      "7      7.195222  35.207843  5.933620\n",
      "8      7.112513  35.389445  5.948903\n",
      "9      7.137688  35.878450  5.989862\n",
      "10     7.119679  35.390084  5.948957\n",
      "11     7.117958  35.211491  5.933927\n",
      "12     7.170389  35.570631  5.964112\n"
     ]
    },
    {
     "data": {
      "image/png": "[encoded data removed]",
      "text/plain": [
       "<Figure size 1000x600 with 1 Axes>"
      ]
     },
     "metadata": {},
     "output_type": "display_data"
    }
   ],
   "source": [
    "#montando umm boxplot para mensagens\n",
    "\n",
    "#preciso agrupar os dados pela coluna 'month' e calcular a média e a variância da coluna 'message_count'\n",
    "mean_e_var_message = dados_e_internet.groupby('month')['message_count'].agg([np.mean, np.var,np.std])  \n",
    "\n",
    "print(mean_e_var)\n",
    "\n",
    "mean_data_message = mean_e_var_message['mean']\n",
    "\n",
    "plt.figure(figsize=[10,6])\n",
    "plt.boxplot(mean_data_message)\n",
    "plt.xlabel('Distribuição')\n",
    "plt.ylabel('Mensagens enviadas')\n",
    "plt.title('Distribuição mensal da mensangens via boxplot')\n",
    "\n",
    "plt.show()"
   ]
  },
  {
   "cell_type": "markdown",
   "metadata": {
    "id": "v6QELMtcuj8v"
   },
   "source": [
    "- Conclusão\n",
    "\n",
    "    Com base nos dados observados, usuários do plano ultimate tendem a enviar muito mais mensagens mensalmente do que usuários do plano surf (muito provavelmente em função da maior disponibilidade de mensagens desse plano  que é de 20 vezes mais em comparação ao plano surf).\n",
    "    O histograma me mostra distribuições diferentes na quantidade de mensagens enviadas em função das próprias características do plano.\n",
    "    O boxplot mostra uma distribuição normal das mensagens, sem a presença de outliers"
   ]
  },
  {
   "cell_type": "markdown",
   "metadata": {
    "id": "nHUCwAnauj8w"
   },
   "source": [
    "### Internet"
   ]
  },
  {
   "cell_type": "code",
   "execution_count": 54,
   "metadata": {
    "id": "EEm27RaRuj8w"
   },
   "outputs": [
    {
     "data": {
      "text/plain": [
       "<Figure size 1000x600 with 0 Axes>"
      ]
     },
     "metadata": {},
     "output_type": "display_data"
    },
    {
     "data": {
      "image/png": "[encoded data removed]",
      "text/plain": [
       "<Figure size 640x480 with 1 Axes>"
      ]
     },
     "metadata": {},
     "output_type": "display_data"
    }
   ],
   "source": [
    "# Compare a quantidade de tráfego de internet consumido pelos usuários por plano\n",
    "\n",
    "internet_means = dados_e_internet.groupby(['month','plan'])['mb_used'].mean()\n",
    "\n",
    "plt.figure(figsize=[10,6])\n",
    "internet_means.unstack().plot(kind='bar', title='Média de internet utilizada por mês e plano')\n",
    "plt.xlabel('Mês do ano')\n",
    "plt.ylabel('Média de internet utilizada')\n",
    "plt.xticks(rotation=45)\n",
    "plt.legend(title='Plano')\n",
    "\n",
    "plt.show()"
   ]
  },
  {
   "cell_type": "code",
   "execution_count": 55,
   "metadata": {
    "id": "Detb0wIZuj8w"
   },
   "outputs": [
    {
     "data": {
      "image/png": "[encoded data removed]",
      "text/plain": [
       "<Figure size 1000x600 with 1 Axes>"
      ]
     },
     "metadata": {},
     "output_type": "display_data"
    }
   ],
   "source": [
    "#montar um histograma para internet\n",
    "\n",
    "plt.figure(figsize=(10, 6)) #determinar o tamanho da figura\n",
    "\n",
    "for plan in dados_e_internet['plan'].unique():  #iterar sobre cada plano\n",
    "    data = dados_e_internet[dados_e_internet['plan'] == plan]['mb_used']  #para cada plano vou selecionar os valores da coluna mb_used\n",
    "    plt.hist(data, bins=20, alpha=0.7, label=plan) # e aqui crio o histograma \n",
    "\n",
    "plt.xlabel('Megabytes utilizados')\n",
    "plt.ylabel('Contagem de usuários')\n",
    "plt.title('Internet utilizada por mês e plano')\n",
    "plt.legend()\n",
    "\n",
    "# Mostrar o histograma\n",
    "plt.show()"
   ]
  },
  {
   "cell_type": "code",
   "execution_count": 56,
   "metadata": {
    "id": "1zsw31_cuj8w"
   },
   "outputs": [
    {
     "name": "stderr",
     "output_type": "stream",
     "text": [
      "C:\\Users\\renan\\AppData\\Local\\Temp\\ipykernel_7036\\957156699.py:4: FutureWarning: The provided callable <function mean at 0x0000027ACE977740> is currently using SeriesGroupBy.mean. In a future version of pandas, the provided callable will be used directly. To keep current behavior pass the string \"mean\" instead.\n",
      "  mean_e_var_internet = dados_e_internet.groupby('month')['mb_used'].agg([np.mean, np.var,np.std])\n",
      "C:\\Users\\renan\\AppData\\Local\\Temp\\ipykernel_7036\\957156699.py:4: FutureWarning: The provided callable <function var at 0x0000027ACE9779C0> is currently using SeriesGroupBy.var. In a future version of pandas, the provided callable will be used directly. To keep current behavior pass the string \"var\" instead.\n",
      "  mean_e_var_internet = dados_e_internet.groupby('month')['mb_used'].agg([np.mean, np.var,np.std])\n",
      "C:\\Users\\renan\\AppData\\Local\\Temp\\ipykernel_7036\\957156699.py:4: FutureWarning: The provided callable <function std at 0x0000027ACE977880> is currently using SeriesGroupBy.std. In a future version of pandas, the provided callable will be used directly. To keep current behavior pass the string \"std\" instead.\n",
      "  mean_e_var_internet = dados_e_internet.groupby('month')['mb_used'].agg([np.mean, np.var,np.std])\n"
     ]
    },
    {
     "name": "stdout",
     "output_type": "stream",
     "text": [
      "             mean           var         std\n",
      "month                                      \n",
      "1      419.365521  95442.461352  308.937633\n",
      "2      375.390234  75902.403474  275.503908\n",
      "3      390.585520  82507.859688  287.241814\n",
      "4      364.926203  77420.739938  278.245826\n",
      "5      367.273682  78083.253441  279.433809\n",
      "6      368.182121  78016.419747  279.314195\n",
      "7      375.771033  77664.817777  278.684082\n",
      "8      379.360515  78696.119315  280.528286\n",
      "9      373.787649  77778.903546  278.888694\n",
      "10     374.147309  76743.222698  277.025672\n",
      "11     369.874829  77406.476973  278.220195\n",
      "12     367.631639  77545.172269  278.469338\n"
     ]
    },
    {
     "data": {
      "image/png": "[encoded data removed]",
      "text/plain": [
       "<Figure size 1000x600 with 1 Axes>"
      ]
     },
     "metadata": {},
     "output_type": "display_data"
    }
   ],
   "source": [
    "#montando umm boxplot para internet\n",
    "\n",
    "#preciso agrupar os dados pela coluna 'month' e calcular a média e a variância da coluna 'mb_used'\n",
    "mean_e_var_internet = dados_e_internet.groupby('month')['mb_used'].agg([np.mean, np.var,np.std])  \n",
    "\n",
    "print(mean_e_var_internet)\n",
    "\n",
    "mean_data_internet = mean_e_var_internet['mean']\n",
    "\n",
    "plt.figure(figsize=[10,6])\n",
    "plt.boxplot(mean_data_internet)\n",
    "plt.xlabel('Distribuição')\n",
    "plt.ylabel('Internet utilizada')\n",
    "plt.title('Distribuição mensal de internet via boxplot')\n",
    "\n",
    "plt.show()"
   ]
  },
  {
   "cell_type": "markdown",
   "metadata": {
    "id": "GsHkFpGmuj8w"
   },
   "source": [
    "- Conclusão\n",
    "\n",
    "    Com base no gráfico de barras os usuários do plano ultimate tendem a utilzar mais internet por mês que os usuários do plano surf (novamente possivelmente em função da maior disponibilidade de internet para esse plano).\n",
    "    O histograma mostra uma distribuição semelhante na utilização de internet pelos usuários, sendo que o plano ultimate tem mênos usuários.\n",
    "    O boxplot mostra que temos uma variação pequena na distribuição apresnetando dois outliers para o conjunto de dados utilizado."
   ]
  },
  {
   "cell_type": "markdown",
   "metadata": {
    "id": "g23qXaYNuj8x"
   },
   "source": [
    "## Receita"
   ]
  },
  {
   "cell_type": "code",
   "execution_count": 57,
   "metadata": {
    "id": "qJSyfvUguj8y"
   },
   "outputs": [
    {
     "data": {
      "image/png": "[encoded data removed]",
      "text/plain": [
       "<Figure size 1000x600 with 1 Axes>"
      ]
     },
     "metadata": {},
     "output_type": "display_data"
    }
   ],
   "source": [
    "#preparando os dados para montagem do gráfico de barras\n",
    "surf_data = receita_mensal[receita_mensal['plan'] == 'surf']\n",
    "ultimate_data = receita_mensal[receita_mensal['plan'] == 'ultimate']\n",
    "\n",
    "# Calcular a receita média mensal para cada plano\n",
    "surf_monthly_revenue = surf_data.groupby('month')['revenue'].mean()\n",
    "ultimate_monthly_revenue = ultimate_data.groupby('month')['revenue'].mean()\n",
    "\n",
    "# Criar um gráfico de barras separando os planos\n",
    "plt.figure(figsize=(10, 6))\n",
    "plt.bar(surf_monthly_revenue.index, surf_monthly_revenue, label='Surf', color='blue', alpha=0.7)\n",
    "plt.bar(ultimate_monthly_revenue.index, ultimate_monthly_revenue, label='Ultimate', color='orange', alpha=0.7)\n",
    "plt.xlabel('Mês do ano')\n",
    "plt.ylabel('Receita média')\n",
    "plt.title('Receita média por mês e plano')\n",
    "plt.xticks(rotation=45)\n",
    "plt.legend(title='Plano')\n",
    "plt.show()"
   ]
  },
  {
   "cell_type": "code",
   "execution_count": 58,
   "metadata": {},
   "outputs": [
    {
     "data": {
      "image/png": "[encoded data removed]",
      "text/plain": [
       "<Figure size 1000x600 with 1 Axes>"
      ]
     },
     "metadata": {},
     "output_type": "display_data"
    }
   ],
   "source": [
    "#montando o histograma para receita\n",
    "\n",
    "plt.figure(figsize=(10, 6)) #determinar o tamanho da figura\n",
    "\n",
    "for plan in receita_mensal['plan'].unique():  #iterar sobre cada plano\n",
    "    data = receita_mensal[receita_mensal['plan'] == plan]['revenue']  #para cada plano vou selecionar os valores da coluna message_count\n",
    "    plt.hist(data, bins=20, alpha=0.7, label=plan) # e aqui crio o histograma \n",
    "\n",
    "plt.xlabel('Receita mensal')\n",
    "plt.ylabel('Contagem de usuários')\n",
    "plt.title('Receita por mês e plano')\n",
    "plt.legend()\n",
    "\n",
    "# Mostrar o histograma\n",
    "plt.show()"
   ]
  },
  {
   "cell_type": "code",
   "execution_count": 59,
   "metadata": {
    "id": "KUSxMW71uj8z",
    "scrolled": false
   },
   "outputs": [
    {
     "name": "stderr",
     "output_type": "stream",
     "text": [
      "C:\\Users\\renan\\AppData\\Local\\Temp\\ipykernel_7036\\4147817876.py:4: FutureWarning: The provided callable <function mean at 0x0000027ACE977740> is currently using SeriesGroupBy.mean. In a future version of pandas, the provided callable will be used directly. To keep current behavior pass the string \"mean\" instead.\n",
      "  mean_e_var_revenue = receita_mensal.groupby('month')['revenue'].agg([np.mean, np.var, np.std])\n",
      "C:\\Users\\renan\\AppData\\Local\\Temp\\ipykernel_7036\\4147817876.py:4: FutureWarning: The provided callable <function var at 0x0000027ACE9779C0> is currently using SeriesGroupBy.var. In a future version of pandas, the provided callable will be used directly. To keep current behavior pass the string \"var\" instead.\n",
      "  mean_e_var_revenue = receita_mensal.groupby('month')['revenue'].agg([np.mean, np.var, np.std])\n"
     ]
    },
    {
     "name": "stdout",
     "output_type": "stream",
     "text": [
      "            mean         var        std\n",
      "month                                  \n",
      "1      54.922698  431.590835  20.774764\n",
      "2      35.968671  495.980773  22.270626\n",
      "3      28.735218  305.691769  17.484043\n",
      "4      31.265815  362.451185  19.038151\n",
      "5      36.485087  497.420856  22.302934\n",
      "6      37.277752  488.955119  22.112330\n",
      "7      35.502725  443.203386  21.052396\n",
      "8      36.607773  468.607847  21.647352\n",
      "9      37.372765  473.375755  21.757200\n",
      "10     38.514862  487.819422  22.086634\n",
      "11     38.346308  495.648348  22.263161\n",
      "12     41.216587  534.558129  23.120513\n"
     ]
    },
    {
     "name": "stderr",
     "output_type": "stream",
     "text": [
      "C:\\Users\\renan\\AppData\\Local\\Temp\\ipykernel_7036\\4147817876.py:4: FutureWarning: The provided callable <function std at 0x0000027ACE977880> is currently using SeriesGroupBy.std. In a future version of pandas, the provided callable will be used directly. To keep current behavior pass the string \"std\" instead.\n",
      "  mean_e_var_revenue = receita_mensal.groupby('month')['revenue'].agg([np.mean, np.var, np.std])\n"
     ]
    },
    {
     "data": {
      "image/png": "[encoded data removed]",
      "text/plain": [
       "<Figure size 1000x600 with 1 Axes>"
      ]
     },
     "metadata": {},
     "output_type": "display_data"
    }
   ],
   "source": [
    "#montando umm boxplot para receita\n",
    "\n",
    "#preciso agrupar os dados pela coluna 'month' e calcular a média e a variância da coluna 'revenue'\n",
    "mean_e_var_revenue = receita_mensal.groupby('month')['revenue'].agg([np.mean, np.var, np.std])  \n",
    "\n",
    "print(mean_e_var_revenue)\n",
    "\n",
    "mean_data_revenue = mean_e_var_revenue['mean']\n",
    "\n",
    "plt.figure(figsize=[10,6])\n",
    "plt.boxplot(mean_data_internet)\n",
    "plt.xlabel('Distribuição')\n",
    "plt.ylabel('Receita')\n",
    "plt.title('Distribuição mensal de receita via boxplot')\n",
    "\n",
    "plt.show()"
   ]
  },
  {
   "cell_type": "code",
   "execution_count": 60,
   "metadata": {},
   "outputs": [
    {
     "name": "stdout",
     "output_type": "stream",
     "text": [
      "   messages_included  mb_per_month_included  minutes_included  \\\n",
      "0                 50                  15360               500   \n",
      "1               1000                  30720              3000   \n",
      "\n",
      "   usd_monthly_pay  usd_per_gb  usd_per_message  usd_per_minute plan_name  \n",
      "0               20          10             0.03            0.03      surf  \n",
      "1               70           7             0.01            0.01  ultimate  \n"
     ]
    }
   ],
   "source": [
    "print(plans) #rever os dados para me ajudar a montar a conclusão."
   ]
  },
  {
   "cell_type": "markdown",
   "metadata": {
    "id": "6X34EwHpuj8z"
   },
   "source": [
    "- Conclusão\n",
    "\n",
    "    Com base no gráfico de barras é possível observar uma certa variaçãonas receitas ao longo dos meses. O histograma permite observar uma maior concentração dos dados nos valores próximos aos valores originais dos planos. Já o boxplot permite observar que há dois outliers dentro das receitas."
   ]
  },
  {
   "cell_type": "markdown",
   "metadata": {
    "id": "xJ6Mu-KAuj8z"
   },
   "source": [
    "## Teste hipóteses estatísticas"
   ]
  },
  {
   "cell_type": "code",
   "execution_count": 61,
   "metadata": {
    "scrolled": true
   },
   "outputs": [
    {
     "name": "stdout",
     "output_type": "stream",
     "text": [
      "         user_id  duration  month  message_count  mb_used      plan  revenue\n",
      "876455      1066       0.0      3           31.0    93.23      surf     20.0\n",
      "5855454     1414      11.0     11           38.0     0.00      surf     20.0\n",
      "2807939     1201      14.0      9            4.0   467.06      surf     20.0\n",
      "6094719     1436      18.0      9            NaN   642.39      surf      NaN\n",
      "6634748     1493       3.0     10            NaN   725.92      surf      NaN\n",
      "4877586     1351       1.0     11           18.0   544.41      surf     20.0\n",
      "4817619     1346      12.0     11           61.0    87.62  ultimate     70.0\n",
      "1542748     1117       9.0      7            NaN   440.86      surf      NaN\n",
      "919520      1068       9.0      7            NaN   246.92      surf      NaN\n",
      "3626145     1256      17.0      9           17.0   562.93      surf     20.0\n"
     ]
    }
   ],
   "source": [
    "print(dados_e_internet.sample(10))"
   ]
  },
  {
   "cell_type": "code",
   "execution_count": 62,
   "metadata": {},
   "outputs": [],
   "source": [
    "#preenchendo os dados vazios com a mediana\n",
    "dados_e_internet['revenue'] = dados_e_internet['revenue'].fillna(dados_e_internet['revenue'].median())"
   ]
  },
  {
   "cell_type": "code",
   "execution_count": 63,
   "metadata": {
    "id": "LyGrPhpUuj80"
   },
   "outputs": [
    {
     "name": "stdout",
     "output_type": "stream",
     "text": [
      "Existe diferença entre as receitas médias.\n"
     ]
    },
    {
     "name": "stderr",
     "output_type": "stream",
     "text": [
      "c:\\Users\\renan\\Python\\Lib\\site-packages\\scipy\\stats\\_axis_nan_policy.py:523: RuntimeWarning: Precision loss occurred in moment calculation due to catastrophic cancellation. This occurs when the data are nearly identical. Results may be unreliable.\n",
      "  res = hypotest_fun_out(*samples, **kwds)\n"
     ]
    }
   ],
   "source": [
    "# Teste as hipóteses\n",
    "\n",
    "# Separar os dados em duas amostras, uma para cada plano\n",
    "revenue_surf = dados_e_internet[dados_e_internet['plan'] == 'surf']['revenue']\n",
    "revenue_ultimate = dados_e_internet[dados_e_internet['plan'] == 'ultimate']['revenue']\n",
    "\n",
    "#aplicar o teste t-student\n",
    "results = st.ttest_ind(revenue_surf, revenue_ultimate, equal_var=False)\n",
    "\n",
    "alpha = 0.05  #nível de significância\n",
    "\n",
    "# Verificar se o valor p é menor que o nível de significância\n",
    "if results.pvalue < alpha:\n",
    "    print(\"Existe diferença entre as receitas médias.\")\n",
    "else:\n",
    "    print(\"Não existe diferença entre as receitas médias.\")"
   ]
  },
  {
   "cell_type": "code",
   "execution_count": 64,
   "metadata": {},
   "outputs": [],
   "source": [
    "# Juntar os dados obtidos até o momento com o DataFrame 'users' \n",
    "\n",
    "data_with_revenue = receita_mensal_e_userid.merge(users, on='user_id', how='outer')\n"
   ]
  },
  {
   "cell_type": "code",
   "execution_count": 65,
   "metadata": {},
   "outputs": [
    {
     "name": "stdout",
     "output_type": "stream",
     "text": [
      "     user_id  revenue first_name last_name  age  \\\n",
      "386     1394     20.0  Alejandro    Carver   28   \n",
      "239     1242     70.0   Lashunda     Johns   37   \n",
      "79      1080      NaN       Neal     Mcgee   45   \n",
      "348     1355     70.0      Digna     Tyson   57   \n",
      "124     1125     70.0    Assunta    Carver   39   \n",
      "257     1260     70.0       Alia   Aguilar   36   \n",
      "107     1108      NaN   Porfirio      Kane   45   \n",
      "396     1404     20.0    Paulita    Conley   33   \n",
      "420     1428     20.0   Asuncion    Conrad   66   \n",
      "445     1453     20.0       Robt     Tyler   51   \n",
      "\n",
      "                                          city   reg_date      plan churn_date  \n",
      "386                           Stockton, CA MSA 2018-01-16      surf        NaT  \n",
      "239          San Antonio-New Braunfels, TX MSA 2018-06-02      surf        NaT  \n",
      "79   New York-Newark-Jersey City, NY-NJ-PA MSA 2018-08-03      surf        NaT  \n",
      "348     Los Angeles-Long Beach-Anaheim, CA MSA 2018-10-07      surf        NaT  \n",
      "124      North Port-Sarasota-Bradenton, FL MSA 2018-08-16      surf        NaT  \n",
      "257     Los Angeles-Long Beach-Anaheim, CA MSA 2018-12-02      surf        NaT  \n",
      "107                     Salt Lake City, UT MSA 2018-12-30  ultimate        NaT  \n",
      "396  New York-Newark-Jersey City, NY-NJ-PA MSA 2018-04-16      surf        NaT  \n",
      "420              Phoenix-Mesa-Chandler, AZ MSA 2018-10-23      surf        NaT  \n",
      "445     Los Angeles-Long Beach-Anaheim, CA MSA 2018-07-09  ultimate        NaT  \n"
     ]
    }
   ],
   "source": [
    "#data_with_revenue = data_with_revenue.drop(['plan_y','first_name','last_name','churn_date','reg_date','age'], axis='columns') \n",
    "print(data_with_revenue.sample(10))"
   ]
  },
  {
   "cell_type": "code",
   "execution_count": 66,
   "metadata": {
    "id": "98t8iiJyuj80"
   },
   "outputs": [
    {
     "name": "stdout",
     "output_type": "stream",
     "text": [
      "Não existe diferença nas receitas médias entre a área de NY-NJ e as demais regiões.\n"
     ]
    }
   ],
   "source": [
    "# Teste as hipóteses\n",
    "\n",
    "# Separar os dados em duas amostras, uma para a área de NY-NJ e outra para as demais regiões\n",
    "revenue_ny_nj = data_with_revenue[data_with_revenue['city'].str.contains('NY-NJ')]['revenue']\n",
    "revenue_other_regions = data_with_revenue[~data_with_revenue['city'].str.contains('NY-NJ')]['revenue']\n",
    "\n",
    "#teste t-student\n",
    "result = st.ttest_ind(revenue_ny_nj, revenue_other_regions)\n",
    "\n",
    "alpha = 0.05 #nível de significância\n",
    "\n",
    "# Verificar se o valor p é menor que o nível de significância\n",
    "if result.pvalue < alpha:\n",
    "    print(\"Existe diferênça entre as médias das regiões.\")\n",
    "else:\n",
    "    print(\"Não existe diferença nas receitas médias entre a área de NY-NJ e as demais regiões.\")"
   ]
  },
  {
   "cell_type": "markdown",
   "metadata": {
    "id": "M8WycwWFuj81"
   },
   "source": [
    "## Conclusão geral\n",
    "\n",
    "- Os DataFrames que apresentavam algum conjunto de dados no formato de data precisaram ser transformados do formato 'object' para 'datetime'. Além disso, conforme instruções do próprio projeto, foi necessário arredondar para minutos os segundos utilizados para ligação.\n",
    "- Como se tratam de diferentes DataFrames contendo informações diferentes, foi necessário realizar a junção de albuns desses DataFrames para fazer a avaliação das informações.\n",
    "- Com base nos dados observados através dos gráficos de barras, histograma e boxplot, apenas os dados de mensagens não apreseram outliers e nos demais foi possivel observar um padrão de consumo de ligações e internet com base no pacote de cada um dos planos.\n",
    "- Ainda, com base nos dados observados, é possível concluir que existe diferença entre as receitas médias no geral. Porém, não existe diferença entre as receitas médias dos usuários das regiões NY-NJ para as demais regiões."
   ]
  }
 ],
 "metadata": {
  "ExecuteTimeLog": [
   {
    "duration": 828,
    "start_time": "2021-11-16T09:21:11.304Z"
   },
   {
    "duration": 893,
    "start_time": "2021-11-16T09:21:17.728Z"
   },
   {
    "duration": 1150,
    "start_time": "2021-11-16T09:21:29.568Z"
   },
   {
    "duration": 3,
    "start_time": "2021-11-16T09:24:14.495Z"
   },
   {
    "duration": 120,
    "start_time": "2021-11-16T09:24:46.630Z"
   },
   {
    "duration": 3,
    "start_time": "2021-11-16T09:28:27.882Z"
   },
   {
    "duration": 4,
    "start_time": "2021-11-16T09:29:54.281Z"
   },
   {
    "duration": 3,
    "start_time": "2021-11-16T09:30:45.936Z"
   },
   {
    "duration": 4,
    "start_time": "2021-11-16T09:31:06.300Z"
   },
   {
    "duration": 113,
    "start_time": "2021-11-16T09:31:37.208Z"
   },
   {
    "duration": 143,
    "start_time": "2021-11-16T09:31:48.656Z"
   },
   {
    "duration": 98,
    "start_time": "2021-11-16T09:31:55.678Z"
   },
   {
    "duration": 3,
    "start_time": "2021-11-16T09:32:08.535Z"
   },
   {
    "duration": 111,
    "start_time": "2021-11-16T09:32:10.120Z"
   },
   {
    "duration": 3,
    "start_time": "2021-11-16T09:32:15.732Z"
   },
   {
    "duration": 4,
    "start_time": "2021-11-16T09:32:29.423Z"
   },
   {
    "duration": 3,
    "start_time": "2021-11-16T10:03:03.074Z"
   },
   {
    "duration": 3,
    "start_time": "2021-11-16T10:10:01.288Z"
   },
   {
    "duration": 3,
    "start_time": "2021-11-16T10:10:46.923Z"
   },
   {
    "duration": 121,
    "start_time": "2021-11-16T10:37:46.494Z"
   },
   {
    "duration": 125,
    "start_time": "2021-11-16T10:38:20.632Z"
   },
   {
    "duration": 112,
    "start_time": "2021-11-16T10:46:53.001Z"
   },
   {
    "duration": 110,
    "start_time": "2021-11-16T10:48:25.775Z"
   },
   {
    "duration": 3,
    "start_time": "2021-11-16T10:50:18.720Z"
   },
   {
    "duration": 4,
    "start_time": "2021-11-16T10:50:37.649Z"
   },
   {
    "duration": 2,
    "start_time": "2021-11-16T10:50:51.884Z"
   },
   {
    "duration": 3,
    "start_time": "2021-11-16T10:51:56.237Z"
   },
   {
    "duration": 101,
    "start_time": "2021-11-16T10:53:13.791Z"
   },
   {
    "duration": 3,
    "start_time": "2021-11-16T10:55:59.186Z"
   },
   {
    "duration": 3,
    "start_time": "2021-11-16T10:56:10.751Z"
   },
   {
    "duration": 3,
    "start_time": "2021-11-16T10:56:49.038Z"
   },
   {
    "duration": 3,
    "start_time": "2021-11-16T10:56:49.174Z"
   },
   {
    "duration": 4,
    "start_time": "2021-11-16T10:56:49.414Z"
   },
   {
    "duration": 3,
    "start_time": "2021-11-16T10:56:49.680Z"
   },
   {
    "duration": 3,
    "start_time": "2021-11-16T10:56:50.370Z"
   },
   {
    "duration": 114,
    "start_time": "2021-11-16T10:59:34.518Z"
   },
   {
    "duration": 3,
    "start_time": "2021-11-16T11:01:41.201Z"
   },
   {
    "duration": 116,
    "start_time": "2021-11-16T11:01:48.754Z"
   },
   {
    "duration": 3,
    "start_time": "2021-11-16T11:02:16.685Z"
   },
   {
    "duration": 3,
    "start_time": "2021-11-16T11:02:19.479Z"
   },
   {
    "duration": 3,
    "start_time": "2021-11-16T11:02:47.067Z"
   },
   {
    "duration": 3,
    "start_time": "2021-11-16T11:02:49.353Z"
   },
   {
    "duration": 3,
    "start_time": "2021-11-16T11:03:07.835Z"
   },
   {
    "duration": 3,
    "start_time": "2021-11-16T11:03:07.953Z"
   },
   {
    "duration": 112,
    "start_time": "2021-11-16T11:07:52.072Z"
   },
   {
    "duration": 187,
    "start_time": "2021-11-16T11:09:23.468Z"
   },
   {
    "duration": 4,
    "start_time": "2021-11-16T11:10:01.455Z"
   },
   {
    "duration": 3,
    "start_time": "2021-11-16T11:10:05.069Z"
   },
   {
    "duration": 4,
    "start_time": "2021-11-16T11:10:13.376Z"
   },
   {
    "duration": 3,
    "start_time": "2021-11-16T11:10:14.434Z"
   },
   {
    "duration": 3,
    "start_time": "2021-11-16T11:10:22.853Z"
   },
   {
    "duration": 4,
    "start_time": "2021-11-16T11:27:29.279Z"
   },
   {
    "duration": 4,
    "start_time": "2021-11-16T11:29:08.919Z"
   },
   {
    "duration": 118,
    "start_time": "2021-11-16T11:29:46.703Z"
   },
   {
    "duration": 437,
    "start_time": "2021-11-16T11:36:02.181Z"
   },
   {
    "duration": 157,
    "start_time": "2021-11-16T11:36:14.388Z"
   },
   {
    "duration": 207,
    "start_time": "2021-11-16T11:47:15.898Z"
   },
   {
    "duration": 3,
    "start_time": "2021-11-16T11:53:52.092Z"
   },
   {
    "duration": 3,
    "start_time": "2021-11-16T11:53:52.236Z"
   },
   {
    "duration": 3,
    "start_time": "2021-11-16T11:59:12.005Z"
   },
   {
    "duration": 112,
    "start_time": "2021-11-16T12:00:33.446Z"
   },
   {
    "duration": 3,
    "start_time": "2021-11-16T12:02:14.453Z"
   },
   {
    "duration": 3,
    "start_time": "2021-11-16T12:02:39.512Z"
   },
   {
    "duration": 106,
    "start_time": "2021-11-16T12:03:03.460Z"
   },
   {
    "duration": 3,
    "start_time": "2021-11-17T20:37:21.139Z"
   },
   {
    "duration": 3,
    "start_time": "2021-11-17T20:37:22.229Z"
   },
   {
    "duration": 3,
    "start_time": "2021-11-17T20:38:38.806Z"
   },
   {
    "duration": 3,
    "start_time": "2021-11-17T20:38:41.958Z"
   },
   {
    "duration": 3,
    "start_time": "2021-11-17T20:43:46.551Z"
   },
   {
    "duration": 4,
    "start_time": "2021-11-17T20:58:21.835Z"
   },
   {
    "duration": 3,
    "start_time": "2021-11-17T20:59:21.872Z"
   },
   {
    "duration": 4,
    "start_time": "2021-11-17T20:59:45.352Z"
   },
   {
    "duration": 4,
    "start_time": "2021-11-17T20:59:49.646Z"
   },
   {
    "duration": 159,
    "start_time": "2021-11-17T21:02:26.949Z"
   },
   {
    "duration": 3,
    "start_time": "2021-11-17T21:03:53.461Z"
   },
   {
    "duration": 3,
    "start_time": "2021-11-17T21:03:53.694Z"
   },
   {
    "duration": 3,
    "start_time": "2021-11-17T21:05:28.145Z"
   },
   {
    "duration": 116,
    "start_time": "2021-11-17T21:05:57.787Z"
   },
   {
    "duration": 3,
    "start_time": "2021-11-17T21:06:37.993Z"
   },
   {
    "duration": 3,
    "start_time": "2021-11-17T21:06:38.261Z"
   },
   {
    "duration": 3,
    "start_time": "2021-11-17T21:11:54.358Z"
   },
   {
    "duration": 3,
    "start_time": "2021-11-17T21:12:43.846Z"
   },
   {
    "duration": 4,
    "start_time": "2021-11-17T21:13:08.773Z"
   },
   {
    "duration": 3,
    "start_time": "2021-11-17T21:14:44.441Z"
   },
   {
    "duration": 3,
    "start_time": "2021-11-17T21:15:42.059Z"
   },
   {
    "duration": 4,
    "start_time": "2021-11-17T21:15:51.995Z"
   },
   {
    "duration": 3,
    "start_time": "2021-11-17T21:15:53.923Z"
   },
   {
    "duration": 3,
    "start_time": "2021-11-17T21:15:55.282Z"
   },
   {
    "duration": 3,
    "start_time": "2021-11-17T21:16:28.492Z"
   },
   {
    "duration": 3,
    "start_time": "2021-11-17T21:16:32.603Z"
   },
   {
    "duration": 3,
    "start_time": "2021-11-17T21:17:06.941Z"
   },
   {
    "duration": 98,
    "start_time": "2021-11-17T21:18:05.733Z"
   },
   {
    "duration": 4,
    "start_time": "2021-11-17T21:21:35.255Z"
   },
   {
    "duration": 3,
    "start_time": "2021-11-17T21:21:37.804Z"
   },
   {
    "duration": 4,
    "start_time": "2021-11-17T21:23:06.071Z"
   },
   {
    "duration": 3,
    "start_time": "2021-11-17T21:23:24.799Z"
   },
   {
    "duration": 3,
    "start_time": "2021-11-17T21:23:32.591Z"
   },
   {
    "duration": 98,
    "start_time": "2021-11-17T21:28:31.559Z"
   },
   {
    "duration": 3,
    "start_time": "2021-11-17T21:28:45.448Z"
   },
   {
    "duration": 3,
    "start_time": "2021-11-17T21:29:17.303Z"
   },
   {
    "duration": 3,
    "start_time": "2021-11-17T21:29:29.617Z"
   },
   {
    "duration": 3,
    "start_time": "2021-11-17T21:29:32.681Z"
   },
   {
    "duration": 3,
    "start_time": "2021-11-17T21:36:11.474Z"
   },
   {
    "duration": 3,
    "start_time": "2021-11-17T21:36:14.791Z"
   },
   {
    "duration": 3,
    "start_time": "2021-11-17T21:36:53.943Z"
   },
   {
    "duration": 3,
    "start_time": "2021-11-17T21:36:56.165Z"
   },
   {
    "duration": 4,
    "start_time": "2021-11-17T21:37:16.590Z"
   },
   {
    "duration": 3,
    "start_time": "2021-11-17T21:37:22.702Z"
   },
   {
    "duration": 4,
    "start_time": "2021-11-17T21:38:03.479Z"
   },
   {
    "duration": 3,
    "start_time": "2021-11-17T21:38:08.601Z"
   },
   {
    "duration": 3,
    "start_time": "2021-11-17T21:38:12.928Z"
   },
   {
    "duration": 3,
    "start_time": "2021-11-17T21:38:48.896Z"
   },
   {
    "duration": 2,
    "start_time": "2021-11-17T21:38:49.171Z"
   },
   {
    "duration": 4,
    "start_time": "2021-11-17T21:39:57.889Z"
   },
   {
    "duration": 3,
    "start_time": "2021-11-17T21:39:58.057Z"
   },
   {
    "duration": 3,
    "start_time": "2021-11-17T21:41:20.108Z"
   },
   {
    "duration": 3,
    "start_time": "2021-11-17T21:41:20.629Z"
   },
   {
    "duration": 3,
    "start_time": "2021-11-17T21:42:49.136Z"
   },
   {
    "duration": 3,
    "start_time": "2021-11-17T21:43:15.137Z"
   },
   {
    "duration": 4,
    "start_time": "2021-11-17T21:43:16.766Z"
   },
   {
    "duration": 4,
    "start_time": "2021-11-17T21:43:31.711Z"
   },
   {
    "duration": 3,
    "start_time": "2021-11-17T21:43:36.312Z"
   },
   {
    "duration": 4,
    "start_time": "2021-11-17T21:45:08.825Z"
   },
   {
    "duration": 4,
    "start_time": "2021-11-17T21:45:10.119Z"
   },
   {
    "duration": 4,
    "start_time": "2021-11-17T21:45:13.748Z"
   },
   {
    "duration": 3,
    "start_time": "2021-11-17T21:45:22.219Z"
   },
   {
    "duration": 3,
    "start_time": "2021-11-17T21:45:33.412Z"
   },
   {
    "duration": 2,
    "start_time": "2021-11-17T21:46:01.885Z"
   },
   {
    "duration": 3,
    "start_time": "2021-11-17T21:46:03.628Z"
   },
   {
    "duration": 107,
    "start_time": "2021-11-17T21:47:32.512Z"
   },
   {
    "duration": 103,
    "start_time": "2021-11-17T21:50:36.243Z"
   },
   {
    "duration": 3,
    "start_time": "2021-11-18T06:28:31.440Z"
   },
   {
    "duration": 3,
    "start_time": "2021-11-18T06:29:00.168Z"
   },
   {
    "duration": 3,
    "start_time": "2021-11-18T06:31:27.008Z"
   },
   {
    "duration": 2,
    "start_time": "2021-11-18T06:35:34.288Z"
   },
   {
    "duration": 2,
    "start_time": "2021-11-18T06:38:04.527Z"
   }
  ],
  "colab": {
   "provenance": []
  },
  "kernelspec": {
   "display_name": "Python 3 (ipykernel)",
   "language": "python",
   "name": "python3"
  },
  "language_info": {
   "codemirror_mode": {
    "name": "ipython",
    "version": 3
   },
   "file_extension": ".py",
   "mimetype": "text/x-python",
   "name": "python",
   "nbconvert_exporter": "python",
   "pygments_lexer": "ipython3",
   "version": "3.12.0"
  },
  "toc": {
   "base_numbering": 1,
   "nav_menu": {},
   "number_sections": true,
   "sideBar": true,
   "skip_h1_title": false,
   "title_cell": "Table of Contents",
   "title_sidebar": "Contents",
   "toc_cell": false,
   "toc_position": {
    "height": "calc(100% - 180px)",
    "left": "10px",
    "top": "150px",
    "width": "165px"
   },
   "toc_section_display": true,
   "toc_window_display": false
  }
 },
 "nbformat": 4,
 "nbformat_minor": 1
}
